{
 "cells": [
  {
   "cell_type": "code",
   "execution_count": 1,
   "metadata": {},
   "outputs": [],
   "source": [
    "# импорт библиотек\n",
    "\n",
    "import pandas as pd # pandas и numpy\n",
    "import numpy as np\n",
    "\n",
    "\n",
    "import re # регулярки"
   ]
  },
  {
   "cell_type": "code",
   "execution_count": 5,
   "metadata": {},
   "outputs": [],
   "source": [
    "work = pd.read_excel('C:/Data/Стоматологии/data_stom.xlsx', sheet_name='data')"
   ]
  },
  {
   "cell_type": "markdown",
   "metadata": {},
   "source": [
    "\"Красивые\" телефонные номера"
   ]
  },
  {
   "cell_type": "code",
   "execution_count": 6,
   "metadata": {},
   "outputs": [
    {
     "data": {
      "text/html": [
       "<div>\n",
       "<style scoped>\n",
       "    .dataframe tbody tr th:only-of-type {\n",
       "        vertical-align: middle;\n",
       "    }\n",
       "\n",
       "    .dataframe tbody tr th {\n",
       "        vertical-align: top;\n",
       "    }\n",
       "\n",
       "    .dataframe thead th {\n",
       "        text-align: right;\n",
       "    }\n",
       "</style>\n",
       "<table border=\"1\" class=\"dataframe\">\n",
       "  <thead>\n",
       "    <tr style=\"text-align: right;\">\n",
       "      <th></th>\n",
       "      <th>page_url</th>\n",
       "      <th>object_name</th>\n",
       "      <th>address</th>\n",
       "      <th>region</th>\n",
       "      <th>city</th>\n",
       "      <th>street_type</th>\n",
       "      <th>street</th>\n",
       "      <th>house</th>\n",
       "      <th>phone</th>\n",
       "      <th>Unnamed: 9</th>\n",
       "      <th>...</th>\n",
       "      <th>clinic_rating</th>\n",
       "      <th>review_number</th>\n",
       "      <th>description</th>\n",
       "      <th>clinic_info</th>\n",
       "      <th>doc_pics</th>\n",
       "      <th>specialists_dict</th>\n",
       "      <th>price</th>\n",
       "      <th>services</th>\n",
       "      <th>contacts</th>\n",
       "      <th>soc_links</th>\n",
       "    </tr>\n",
       "  </thead>\n",
       "  <tbody>\n",
       "    <tr>\n",
       "      <th>0</th>\n",
       "      <td>https://zoon.ru/msk/medical/stomatologicheskay...</td>\n",
       "      <td>Ника Орто</td>\n",
       "      <td>Москва, к1126, Зеленоград</td>\n",
       "      <td>Москва</td>\n",
       "      <td>Зеленоград</td>\n",
       "      <td>к1126, Зеленоград</td>\n",
       "      <td>Зеленоград</td>\n",
       "      <td>к1126</td>\n",
       "      <td>89660326559</td>\n",
       "      <td>NaN</td>\n",
       "      <td>...</td>\n",
       "      <td>4.4</td>\n",
       "      <td>21</td>\n",
       "      <td>Гордиться улыбкой, без стеснения дарить ее окр...</td>\n",
       "      <td>['Юридическое название: ООО \"Ника Денталь\"']</td>\n",
       "      <td>3</td>\n",
       "      <td>{'Мадина Болатовна Сатыбалова ': ['Стаж 14 лет...</td>\n",
       "      <td>{'Лечение кариеса': '500—7000', 'Удаление зубо...</td>\n",
       "      <td>{'Тип мед. учреждения': 'стоматологическая кли...</td>\n",
       "      <td>{'Время работы': ['Пн-Чт, Сб-Вс: 10:00—20:00 и...</td>\n",
       "      <td>none</td>\n",
       "    </tr>\n",
       "    <tr>\n",
       "      <th>1</th>\n",
       "      <td>https://zoon.ru/msk/medical/stomatologicheskay...</td>\n",
       "      <td>Никор</td>\n",
       "      <td>Москва, к1204, Зеленоград</td>\n",
       "      <td>Москва</td>\n",
       "      <td>Зеленоград</td>\n",
       "      <td>к1204, Зеленоград</td>\n",
       "      <td>Зеленоград</td>\n",
       "      <td>к1204</td>\n",
       "      <td>89680404512</td>\n",
       "      <td>NaN</td>\n",
       "      <td>...</td>\n",
       "      <td>4.3</td>\n",
       "      <td>24</td>\n",
       "      <td>Ищете стоматологию в Зеленограде, чтобы решить...</td>\n",
       "      <td>none</td>\n",
       "      <td>8</td>\n",
       "      <td>{'Ильшат Ильгизарович Магфурзянов ': ['Стаж 17...</td>\n",
       "      <td>{'Лечение кариеса': '≈ 4000', 'Удаление зубов'...</td>\n",
       "      <td>{'Тип мед. учреждения': 'стоматологическая кли...</td>\n",
       "      <td>{'Адреса сети': ['Вся сеть Никор, группа компа...</td>\n",
       "      <td>none</td>\n",
       "    </tr>\n",
       "  </tbody>\n",
       "</table>\n",
       "<p>2 rows × 31 columns</p>\n",
       "</div>"
      ],
      "text/plain": [
       "                                            page_url object_name  \\\n",
       "0  https://zoon.ru/msk/medical/stomatologicheskay...   Ника Орто   \n",
       "1  https://zoon.ru/msk/medical/stomatologicheskay...       Никор   \n",
       "\n",
       "                     address  region        city        street_type  \\\n",
       "0  Москва, к1126, Зеленоград  Москва  Зеленоград  к1126, Зеленоград   \n",
       "1  Москва, к1204, Зеленоград  Москва  Зеленоград  к1204, Зеленоград   \n",
       "\n",
       "       street  house        phone  Unnamed: 9  ... clinic_rating  \\\n",
       "0  Зеленоград  к1126  89660326559         NaN  ...           4.4   \n",
       "1  Зеленоград  к1204  89680404512         NaN  ...           4.3   \n",
       "\n",
       "  review_number                                        description  \\\n",
       "0            21  Гордиться улыбкой, без стеснения дарить ее окр...   \n",
       "1            24  Ищете стоматологию в Зеленограде, чтобы решить...   \n",
       "\n",
       "                                    clinic_info doc_pics  \\\n",
       "0  ['Юридическое название: ООО \"Ника Денталь\"']        3   \n",
       "1                                          none        8   \n",
       "\n",
       "                                    specialists_dict  \\\n",
       "0  {'Мадина Болатовна Сатыбалова ': ['Стаж 14 лет...   \n",
       "1  {'Ильшат Ильгизарович Магфурзянов ': ['Стаж 17...   \n",
       "\n",
       "                                               price  \\\n",
       "0  {'Лечение кариеса': '500—7000', 'Удаление зубо...   \n",
       "1  {'Лечение кариеса': '≈ 4000', 'Удаление зубов'...   \n",
       "\n",
       "                                            services  \\\n",
       "0  {'Тип мед. учреждения': 'стоматологическая кли...   \n",
       "1  {'Тип мед. учреждения': 'стоматологическая кли...   \n",
       "\n",
       "                                            contacts soc_links  \n",
       "0  {'Время работы': ['Пн-Чт, Сб-Вс: 10:00—20:00 и...      none  \n",
       "1  {'Адреса сети': ['Вся сеть Никор, группа компа...      none  \n",
       "\n",
       "[2 rows x 31 columns]"
      ]
     },
     "execution_count": 6,
     "metadata": {},
     "output_type": "execute_result"
    }
   ],
   "source": [
    "work.head(2)"
   ]
  },
  {
   "cell_type": "code",
   "execution_count": 29,
   "metadata": {},
   "outputs": [],
   "source": [
    "def simplify_phone(work):\n",
    "    temp = str(work.phone)\n",
    "    if len(temp) == 11:\n",
    "        return '(' + temp[1:4] + ') ' + temp[4:7] + '-' + temp[7:9] + '-' + temp[9:11]"
   ]
  },
  {
   "cell_type": "code",
   "execution_count": 30,
   "metadata": {},
   "outputs": [],
   "source": [
    "work['new_phone'] = work.apply(simplify_phone, axis=1)"
   ]
  },
  {
   "cell_type": "code",
   "execution_count": 32,
   "metadata": {},
   "outputs": [
    {
     "data": {
      "text/html": [
       "<div>\n",
       "<style scoped>\n",
       "    .dataframe tbody tr th:only-of-type {\n",
       "        vertical-align: middle;\n",
       "    }\n",
       "\n",
       "    .dataframe tbody tr th {\n",
       "        vertical-align: top;\n",
       "    }\n",
       "\n",
       "    .dataframe thead th {\n",
       "        text-align: right;\n",
       "    }\n",
       "</style>\n",
       "<table border=\"1\" class=\"dataframe\">\n",
       "  <thead>\n",
       "    <tr style=\"text-align: right;\">\n",
       "      <th></th>\n",
       "      <th>page_url</th>\n",
       "      <th>object_name</th>\n",
       "      <th>address</th>\n",
       "      <th>region</th>\n",
       "      <th>city</th>\n",
       "      <th>street_type</th>\n",
       "      <th>street</th>\n",
       "      <th>house</th>\n",
       "      <th>phone</th>\n",
       "      <th>Unnamed: 9</th>\n",
       "      <th>...</th>\n",
       "      <th>review_number</th>\n",
       "      <th>description</th>\n",
       "      <th>clinic_info</th>\n",
       "      <th>doc_pics</th>\n",
       "      <th>specialists_dict</th>\n",
       "      <th>price</th>\n",
       "      <th>services</th>\n",
       "      <th>contacts</th>\n",
       "      <th>soc_links</th>\n",
       "      <th>new_phone</th>\n",
       "    </tr>\n",
       "  </thead>\n",
       "  <tbody>\n",
       "    <tr>\n",
       "      <th>0</th>\n",
       "      <td>https://zoon.ru/msk/medical/stomatologicheskay...</td>\n",
       "      <td>Ника Орто</td>\n",
       "      <td>Москва, к1126, Зеленоград</td>\n",
       "      <td>Москва</td>\n",
       "      <td>Зеленоград</td>\n",
       "      <td>к1126, Зеленоград</td>\n",
       "      <td>Зеленоград</td>\n",
       "      <td>к1126</td>\n",
       "      <td>89660326559</td>\n",
       "      <td>NaN</td>\n",
       "      <td>...</td>\n",
       "      <td>21</td>\n",
       "      <td>Гордиться улыбкой, без стеснения дарить ее окр...</td>\n",
       "      <td>['Юридическое название: ООО \"Ника Денталь\"']</td>\n",
       "      <td>3</td>\n",
       "      <td>{'Мадина Болатовна Сатыбалова ': ['Стаж 14 лет...</td>\n",
       "      <td>{'Лечение кариеса': '500—7000', 'Удаление зубо...</td>\n",
       "      <td>{'Тип мед. учреждения': 'стоматологическая кли...</td>\n",
       "      <td>{'Время работы': ['Пн-Чт, Сб-Вс: 10:00—20:00 и...</td>\n",
       "      <td>none</td>\n",
       "      <td>(966) 032-65-59</td>\n",
       "    </tr>\n",
       "    <tr>\n",
       "      <th>1</th>\n",
       "      <td>https://zoon.ru/msk/medical/stomatologicheskay...</td>\n",
       "      <td>Никор</td>\n",
       "      <td>Москва, к1204, Зеленоград</td>\n",
       "      <td>Москва</td>\n",
       "      <td>Зеленоград</td>\n",
       "      <td>к1204, Зеленоград</td>\n",
       "      <td>Зеленоград</td>\n",
       "      <td>к1204</td>\n",
       "      <td>89680404512</td>\n",
       "      <td>NaN</td>\n",
       "      <td>...</td>\n",
       "      <td>24</td>\n",
       "      <td>Ищете стоматологию в Зеленограде, чтобы решить...</td>\n",
       "      <td>none</td>\n",
       "      <td>8</td>\n",
       "      <td>{'Ильшат Ильгизарович Магфурзянов ': ['Стаж 17...</td>\n",
       "      <td>{'Лечение кариеса': '≈ 4000', 'Удаление зубов'...</td>\n",
       "      <td>{'Тип мед. учреждения': 'стоматологическая кли...</td>\n",
       "      <td>{'Адреса сети': ['Вся сеть Никор, группа компа...</td>\n",
       "      <td>none</td>\n",
       "      <td>(968) 040-45-12</td>\n",
       "    </tr>\n",
       "  </tbody>\n",
       "</table>\n",
       "<p>2 rows × 32 columns</p>\n",
       "</div>"
      ],
      "text/plain": [
       "                                            page_url object_name  \\\n",
       "0  https://zoon.ru/msk/medical/stomatologicheskay...   Ника Орто   \n",
       "1  https://zoon.ru/msk/medical/stomatologicheskay...       Никор   \n",
       "\n",
       "                     address  region        city        street_type  \\\n",
       "0  Москва, к1126, Зеленоград  Москва  Зеленоград  к1126, Зеленоград   \n",
       "1  Москва, к1204, Зеленоград  Москва  Зеленоград  к1204, Зеленоград   \n",
       "\n",
       "       street  house        phone  Unnamed: 9  ... review_number  \\\n",
       "0  Зеленоград  к1126  89660326559         NaN  ...            21   \n",
       "1  Зеленоград  к1204  89680404512         NaN  ...            24   \n",
       "\n",
       "                                         description  \\\n",
       "0  Гордиться улыбкой, без стеснения дарить ее окр...   \n",
       "1  Ищете стоматологию в Зеленограде, чтобы решить...   \n",
       "\n",
       "                                    clinic_info doc_pics  \\\n",
       "0  ['Юридическое название: ООО \"Ника Денталь\"']        3   \n",
       "1                                          none        8   \n",
       "\n",
       "                                    specialists_dict  \\\n",
       "0  {'Мадина Болатовна Сатыбалова ': ['Стаж 14 лет...   \n",
       "1  {'Ильшат Ильгизарович Магфурзянов ': ['Стаж 17...   \n",
       "\n",
       "                                               price  \\\n",
       "0  {'Лечение кариеса': '500—7000', 'Удаление зубо...   \n",
       "1  {'Лечение кариеса': '≈ 4000', 'Удаление зубов'...   \n",
       "\n",
       "                                            services  \\\n",
       "0  {'Тип мед. учреждения': 'стоматологическая кли...   \n",
       "1  {'Тип мед. учреждения': 'стоматологическая кли...   \n",
       "\n",
       "                                            contacts soc_links  \\\n",
       "0  {'Время работы': ['Пн-Чт, Сб-Вс: 10:00—20:00 и...      none   \n",
       "1  {'Адреса сети': ['Вся сеть Никор, группа компа...      none   \n",
       "\n",
       "         new_phone  \n",
       "0  (966) 032-65-59  \n",
       "1  (968) 040-45-12  \n",
       "\n",
       "[2 rows x 32 columns]"
      ]
     },
     "execution_count": 32,
     "metadata": {},
     "output_type": "execute_result"
    }
   ],
   "source": [
    "work.head(2)"
   ]
  },
  {
   "cell_type": "code",
   "execution_count": 33,
   "metadata": {},
   "outputs": [],
   "source": [
    "work.to_excel('C:/Data/Стоматологии/data_stom_new.xlsx', index=False)"
   ]
  },
  {
   "cell_type": "code",
   "execution_count": null,
   "metadata": {},
   "outputs": [],
   "source": []
  },
  {
   "cell_type": "code",
   "execution_count": null,
   "metadata": {},
   "outputs": [],
   "source": [
    "# импорт файла в датафрейм\n",
    "\n",
    "work = pd.read_excel()"
   ]
  },
  {
   "cell_type": "code",
   "execution_count": null,
   "metadata": {},
   "outputs": [],
   "source": [
    "# смотрю случайные строки\n",
    "\n",
    "work.sample(3)"
   ]
  },
  {
   "cell_type": "code",
   "execution_count": null,
   "metadata": {},
   "outputs": [],
   "source": [
    "# перевожу названия столбцов в нижний регистр\n",
    "\n",
    "work.columns = work.columns.str.lower()"
   ]
  },
  {
   "cell_type": "code",
   "execution_count": null,
   "metadata": {},
   "outputs": [],
   "source": [
    "# Меняю пробелы на \"_\" в названиях столбцов\n",
    "\n",
    "work.rename(columns=lambda x: x.replace(' ', '_'), inplace=True)"
   ]
  },
  {
   "cell_type": "code",
   "execution_count": null,
   "metadata": {},
   "outputs": [],
   "source": []
  },
  {
   "cell_type": "code",
   "execution_count": null,
   "metadata": {},
   "outputs": [],
   "source": [
    "# количество строк и столбцов\n",
    "\n",
    "work.shape"
   ]
  },
  {
   "cell_type": "code",
   "execution_count": null,
   "metadata": {},
   "outputs": [],
   "source": [
    "# типы данных\n",
    "\n",
    "work.dtypes"
   ]
  },
  {
   "cell_type": "code",
   "execution_count": null,
   "metadata": {},
   "outputs": [],
   "source": [
    "# меняю типы столбцов\n",
    "\n",
    "work = work.astype({'col': 'type', 'col2': 'type_2'})"
   ]
  },
  {
   "cell_type": "code",
   "execution_count": null,
   "metadata": {},
   "outputs": [],
   "source": [
    "# проверка на пустые значения\n",
    "\n",
    "work.isnull().sum()"
   ]
  },
  {
   "cell_type": "code",
   "execution_count": null,
   "metadata": {},
   "outputs": [],
   "source": [
    "# Заполняю пустые значения в столбце строкой 'null' или '0' (если во всем датафрейме, то без указания столбца)\n",
    "\n",
    "work.column_name.fillna('null', inplace=True)\n",
    "\n",
    "work.fillna('null', inplace=True)"
   ]
  },
  {
   "cell_type": "code",
   "execution_count": null,
   "metadata": {},
   "outputs": [],
   "source": []
  },
  {
   "cell_type": "code",
   "execution_count": null,
   "metadata": {},
   "outputs": [],
   "source": []
  },
  {
   "cell_type": "markdown",
   "metadata": {},
   "source": [
    "## Чистка и унификация текста ##"
   ]
  },
  {
   "cell_type": "code",
   "execution_count": null,
   "metadata": {},
   "outputs": [],
   "source": []
  },
  {
   "cell_type": "code",
   "execution_count": null,
   "metadata": {},
   "outputs": [],
   "source": []
  },
  {
   "cell_type": "code",
   "execution_count": null,
   "metadata": {},
   "outputs": [],
   "source": [
    "# меняю \"ё\" на \"е\" в строках\n",
    "\n",
    "df.column = df.column.str.replace('ё', 'е')"
   ]
  },
  {
   "cell_type": "code",
   "execution_count": null,
   "metadata": {},
   "outputs": [],
   "source": [
    "# убирает  переводы строки\n",
    "\n",
    "df.column = df.column.str.replace('\\n', ' ')"
   ]
  },
  {
   "cell_type": "code",
   "execution_count": null,
   "metadata": {},
   "outputs": [],
   "source": []
  },
  {
   "cell_type": "code",
   "execution_count": null,
   "metadata": {},
   "outputs": [],
   "source": []
  },
  {
   "cell_type": "code",
   "execution_count": null,
   "metadata": {},
   "outputs": [],
   "source": []
  },
  {
   "cell_type": "code",
   "execution_count": null,
   "metadata": {},
   "outputs": [],
   "source": []
  },
  {
   "cell_type": "code",
   "execution_count": null,
   "metadata": {},
   "outputs": [],
   "source": [
    "# для визуализации\n",
    "import seaborn as sns\n",
    "import matplotlib.pyplot as plt"
   ]
  },
  {
   "cell_type": "code",
   "execution_count": null,
   "metadata": {},
   "outputs": [],
   "source": [
    "# статистических\n",
    "\n",
    "import statistics\n",
    "\n",
    "%matplotlib inline"
   ]
  },
  {
   "cell_type": "code",
   "execution_count": null,
   "metadata": {},
   "outputs": [],
   "source": []
  },
  {
   "cell_type": "code",
   "execution_count": null,
   "metadata": {},
   "outputs": [],
   "source": [
    "[i for i in list(students_df) if 'score' in i]"
   ]
  },
  {
   "cell_type": "code",
   "execution_count": null,
   "metadata": {},
   "outputs": [],
   "source": [
    "[i for i in students_df.columns if 'score' in i]"
   ]
  },
  {
   "cell_type": "code",
   "execution_count": null,
   "metadata": {},
   "outputs": [],
   "source": [
    "students_df.filter(like='score')"
   ]
  },
  {
   "cell_type": "code",
   "execution_count": null,
   "metadata": {},
   "outputs": [],
   "source": [
    "# axis=0 - строки (в индексе), axis=1 - столбцы \n",
    "\n",
    "students_df.filter(like='1', axis=0)"
   ]
  },
  {
   "cell_type": "code",
   "execution_count": null,
   "metadata": {},
   "outputs": [],
   "source": [
    "(\n",
    "    students_df.groupby('gender', as_index=False)\n",
    "    .agg({'math_score': 'mean'})\n",
    "    .rename(columns={'math_score': 'math_score_mean'})\n",
    ")"
   ]
  },
  {
   "cell_type": "code",
   "execution_count": null,
   "metadata": {},
   "outputs": [],
   "source": []
  },
  {
   "cell_type": "code",
   "execution_count": null,
   "metadata": {},
   "outputs": [],
   "source": [
    "# доля пропусков в данных\n",
    "\n",
    "round(titanic_data.isna().mean() * 100, 2)"
   ]
  },
  {
   "cell_type": "code",
   "execution_count": null,
   "metadata": {},
   "outputs": [],
   "source": []
  },
  {
   "cell_type": "code",
   "execution_count": null,
   "metadata": {},
   "outputs": [],
   "source": []
  },
  {
   "cell_type": "code",
   "execution_count": null,
   "metadata": {},
   "outputs": [],
   "source": []
  },
  {
   "cell_type": "code",
   "execution_count": null,
   "metadata": {},
   "outputs": [],
   "source": []
  },
  {
   "cell_type": "code",
   "execution_count": null,
   "metadata": {},
   "outputs": [],
   "source": []
  },
  {
   "cell_type": "code",
   "execution_count": null,
   "metadata": {},
   "outputs": [],
   "source": [
    "import time"
   ]
  },
  {
   "cell_type": "code",
   "execution_count": null,
   "metadata": {},
   "outputs": [],
   "source": [
    "# индикатор прогресса\n",
    "\n",
    "\n",
    "from tqdm import tqdm\n",
    "from tqdm import tqdm_notebook\n"
   ]
  },
  {
   "cell_type": "code",
   "execution_count": null,
   "metadata": {},
   "outputs": [],
   "source": [
    "tqdm_notebook"
   ]
  },
  {
   "cell_type": "code",
   "execution_count": null,
   "metadata": {},
   "outputs": [],
   "source": [
    "mylist = [1,2,3,4,5,6,7,8]\n",
    "\n",
    "for i in tqdm_notebook(mylist):\n",
    "    time.sleep(1)"
   ]
  },
  {
   "cell_type": "code",
   "execution_count": null,
   "metadata": {},
   "outputs": [],
   "source": []
  }
 ],
 "metadata": {
  "kernelspec": {
   "display_name": "Python 3",
   "language": "python",
   "name": "python3"
  },
  "language_info": {
   "codemirror_mode": {
    "name": "ipython",
    "version": 3
   },
   "file_extension": ".py",
   "mimetype": "text/x-python",
   "name": "python",
   "nbconvert_exporter": "python",
   "pygments_lexer": "ipython3",
   "version": "3.8.8"
  }
 },
 "nbformat": 4,
 "nbformat_minor": 2
}
