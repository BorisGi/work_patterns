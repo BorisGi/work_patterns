{
 "cells": [
  {
   "cell_type": "code",
   "execution_count": 1,
   "metadata": {},
   "outputs": [],
   "source": [
    "# импорт библиотек\n",
    "\n",
    "import os\n",
    "\n",
    "import pandas as pd"
   ]
  },
  {
   "cell_type": "markdown",
   "metadata": {},
   "source": [
    "### Список файлов в папке ###"
   ]
  },
  {
   "cell_type": "code",
   "execution_count": 19,
   "metadata": {},
   "outputs": [],
   "source": [
    "file_path = 'C:/00_Data/00_fin/'"
   ]
  },
  {
   "cell_type": "code",
   "execution_count": 20,
   "metadata": {},
   "outputs": [],
   "source": [
    "# вытаскиваю названия файлов в список file_list\n",
    "\n",
    "file_list = []\n",
    "\n",
    "for root, dirs, files in os.walk(file_path):\n",
    "    \n",
    "    for filename in files:\n",
    "        file_list += [filename]"
   ]
  },
  {
   "cell_type": "code",
   "execution_count": 21,
   "metadata": {},
   "outputs": [
    {
     "name": "stdout",
     "output_type": "stream",
     "text": [
      "['fin_report_0.csv', 'fin_report_1.csv', 'fin_report_10.csv', 'fin_report_11.csv', 'fin_report_12.csv', 'fin_report_13.csv', 'fin_report_14.csv', 'fin_report_15.csv', 'fin_report_16.csv', 'fin_report_17.csv', 'fin_report_18.csv', 'fin_report_19.csv', 'fin_report_2.csv', 'fin_report_20.csv', 'fin_report_21.csv', 'fin_report_22.csv', 'fin_report_23.csv', 'fin_report_24.csv', 'fin_report_25.csv', 'fin_report_26.csv', 'fin_report_27.csv', 'fin_report_28.csv', 'fin_report_29.csv', 'fin_report_3.csv', 'fin_report_4.csv', 'fin_report_5.csv', 'fin_report_6.csv', 'fin_report_7.csv', 'fin_report_8.csv', 'fin_report_9.csv']\n"
     ]
    }
   ],
   "source": [
    "print(file_list)"
   ]
  },
  {
   "cell_type": "code",
   "execution_count": null,
   "metadata": {},
   "outputs": [],
   "source": []
  },
  {
   "cell_type": "code",
   "execution_count": 25,
   "metadata": {},
   "outputs": [],
   "source": [
    "gen_info = pd.DataFrame()"
   ]
  },
  {
   "cell_type": "code",
   "execution_count": 26,
   "metadata": {},
   "outputs": [
    {
     "name": "stdout",
     "output_type": "stream",
     "text": [
      "Wall time: 0 ns\n"
     ]
    }
   ],
   "source": [
    "%time\n",
    "\n",
    "for file in file_list:\n",
    "    temp = pd.read_csv(file_path + file, low_memory=False)\n",
    "    \n",
    "    gen_info = gen_info.append(temp, ignore_index = True)  \n",
    "    "
   ]
  },
  {
   "cell_type": "code",
   "execution_count": 27,
   "metadata": {},
   "outputs": [
    {
     "data": {
      "text/plain": [
       "(768174, 9)"
      ]
     },
     "execution_count": 27,
     "metadata": {},
     "output_type": "execute_result"
    }
   ],
   "source": [
    "gen_info.shape"
   ]
  },
  {
   "cell_type": "code",
   "execution_count": 28,
   "metadata": {},
   "outputs": [],
   "source": [
    "gen_info = gen_info.drop_duplicates()"
   ]
  },
  {
   "cell_type": "code",
   "execution_count": 29,
   "metadata": {},
   "outputs": [
    {
     "data": {
      "text/plain": [
       "(547921, 9)"
      ]
     },
     "execution_count": 29,
     "metadata": {},
     "output_type": "execute_result"
    }
   ],
   "source": [
    "gen_info.shape"
   ]
  },
  {
   "cell_type": "code",
   "execution_count": 30,
   "metadata": {},
   "outputs": [
    {
     "data": {
      "text/html": [
       "<div>\n",
       "<style scoped>\n",
       "    .dataframe tbody tr th:only-of-type {\n",
       "        vertical-align: middle;\n",
       "    }\n",
       "\n",
       "    .dataframe tbody tr th {\n",
       "        vertical-align: top;\n",
       "    }\n",
       "\n",
       "    .dataframe thead th {\n",
       "        text-align: right;\n",
       "    }\n",
       "</style>\n",
       "<table border=\"1\" class=\"dataframe\">\n",
       "  <thead>\n",
       "    <tr style=\"text-align: right;\">\n",
       "      <th></th>\n",
       "      <th>indicator</th>\n",
       "      <th>code</th>\n",
       "      <th>2020</th>\n",
       "      <th>of_2019</th>\n",
       "      <th>2019_2</th>\n",
       "      <th>inn</th>\n",
       "      <th>2019</th>\n",
       "      <th>of_2018</th>\n",
       "      <th>2018</th>\n",
       "    </tr>\n",
       "  </thead>\n",
       "  <tbody>\n",
       "    <tr>\n",
       "      <th>0</th>\n",
       "      <td>Выручка</td>\n",
       "      <td>2110</td>\n",
       "      <td>0</td>\n",
       "      <td>none</td>\n",
       "      <td>0</td>\n",
       "      <td>ИНН: 0101012010</td>\n",
       "      <td>0</td>\n",
       "      <td>-100,0%</td>\n",
       "      <td>1127</td>\n",
       "    </tr>\n",
       "    <tr>\n",
       "      <th>1</th>\n",
       "      <td>Себестоимость продаж</td>\n",
       "      <td>2120</td>\n",
       "      <td>(0)</td>\n",
       "      <td>none</td>\n",
       "      <td>(0)</td>\n",
       "      <td>ИНН: 0101012010</td>\n",
       "      <td>(0)</td>\n",
       "      <td>-100,0%</td>\n",
       "      <td>(733)</td>\n",
       "    </tr>\n",
       "    <tr>\n",
       "      <th>2</th>\n",
       "      <td>Валовая прибыль (убыток)</td>\n",
       "      <td>2100</td>\n",
       "      <td>NaN</td>\n",
       "      <td>none</td>\n",
       "      <td>NaN</td>\n",
       "      <td>ИНН: 0101012010</td>\n",
       "      <td>NaN</td>\n",
       "      <td>none</td>\n",
       "      <td>NaN</td>\n",
       "    </tr>\n",
       "  </tbody>\n",
       "</table>\n",
       "</div>"
      ],
      "text/plain": [
       "                  indicator  code 2020 of_2019 2019_2              inn 2019  \\\n",
       "0                   Выручка  2110    0    none      0  ИНН: 0101012010    0   \n",
       "1      Себестоимость продаж  2120  (0)    none    (0)  ИНН: 0101012010  (0)   \n",
       "2  Валовая прибыль (убыток)  2100  NaN    none    NaN  ИНН: 0101012010  NaN   \n",
       "\n",
       "   of_2018   2018  \n",
       "0  -100,0%   1127  \n",
       "1  -100,0%  (733)  \n",
       "2     none    NaN  "
      ]
     },
     "execution_count": 30,
     "metadata": {},
     "output_type": "execute_result"
    }
   ],
   "source": [
    "gen_info.head(3)"
   ]
  },
  {
   "cell_type": "code",
   "execution_count": 31,
   "metadata": {},
   "outputs": [
    {
     "data": {
      "text/plain": [
       "21398"
      ]
     },
     "execution_count": 31,
     "metadata": {},
     "output_type": "execute_result"
    }
   ],
   "source": [
    "gen_info.inn.nunique()"
   ]
  },
  {
   "cell_type": "code",
   "execution_count": 32,
   "metadata": {},
   "outputs": [],
   "source": [
    "gen_info.to_excel('C:/00_Data/fin_report.xlsx', index=False)"
   ]
  },
  {
   "cell_type": "code",
   "execution_count": 33,
   "metadata": {},
   "outputs": [],
   "source": [
    "gen_info.to_csv('C:/00_Data/fin_report.csv', index=False)"
   ]
  },
  {
   "cell_type": "code",
   "execution_count": null,
   "metadata": {},
   "outputs": [],
   "source": []
  },
  {
   "cell_type": "markdown",
   "metadata": {},
   "source": [
    "### Переименование файлов ###"
   ]
  },
  {
   "cell_type": "markdown",
   "metadata": {},
   "source": [
    "**Важно:** rename перемещает файлы, а не просто переименовывает."
   ]
  },
  {
   "cell_type": "code",
   "execution_count": 15,
   "metadata": {},
   "outputs": [],
   "source": [
    "# пути к папкам\n",
    "\n",
    "file_path_old = 'C:/00_Data/00_fin_old/'\n",
    "file_path_new = 'C:/00_Data/00_fin/'"
   ]
  },
  {
   "cell_type": "code",
   "execution_count": 16,
   "metadata": {},
   "outputs": [],
   "source": [
    "# Базовая часть новых имен\n",
    "\n",
    "new = 'fin_report_'"
   ]
  },
  {
   "cell_type": "code",
   "execution_count": 17,
   "metadata": {},
   "outputs": [],
   "source": [
    "# вытаскиваю названия файлов в список file_list\n",
    "\n",
    "file_list = []\n",
    "\n",
    "for root, dirs, files in os.walk(file_path_old):\n",
    "    \n",
    "    for filename in files:\n",
    "        file_list += [filename]  "
   ]
  },
  {
   "cell_type": "code",
   "execution_count": 18,
   "metadata": {},
   "outputs": [],
   "source": [
    "# переименовываю файлы\n",
    "\n",
    "for item in enumerate(file_list):\n",
    "    \n",
    "    old_name = file_path_old + item[1]\n",
    "    new_name = file_path_new + new + str(item[0]) + '.csv'\n",
    "    \n",
    "    os.rename(old_name, new_name)"
   ]
  },
  {
   "cell_type": "code",
   "execution_count": null,
   "metadata": {},
   "outputs": [],
   "source": []
  },
  {
   "cell_type": "code",
   "execution_count": null,
   "metadata": {},
   "outputs": [],
   "source": []
  }
 ],
 "metadata": {
  "kernelspec": {
   "display_name": "Python 3",
   "language": "python",
   "name": "python3"
  },
  "language_info": {
   "codemirror_mode": {
    "name": "ipython",
    "version": 3
   },
   "file_extension": ".py",
   "mimetype": "text/x-python",
   "name": "python",
   "nbconvert_exporter": "python",
   "pygments_lexer": "ipython3",
   "version": "3.8.8"
  }
 },
 "nbformat": 4,
 "nbformat_minor": 2
}
