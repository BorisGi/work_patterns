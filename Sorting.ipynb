{
 "cells": [
  {
   "cell_type": "code",
   "execution_count": 1,
   "metadata": {},
   "outputs": [],
   "source": [
    "# импорт библиотек\n",
    "\n",
    "import pandas as pd # pandas и numpy\n",
    "import numpy as np"
   ]
  },
  {
   "cell_type": "code",
   "execution_count": 13,
   "metadata": {},
   "outputs": [],
   "source": [
    "# импорт файла в датафрейм\n",
    "\n",
    "work = pd.read_excel('C:/00_Projects/Minjust/Музыка.xlsx', sheet_name='music_only_items')"
   ]
  },
  {
   "cell_type": "code",
   "execution_count": 14,
   "metadata": {},
   "outputs": [
    {
     "data": {
      "text/html": [
       "<div>\n",
       "<style scoped>\n",
       "    .dataframe tbody tr th:only-of-type {\n",
       "        vertical-align: middle;\n",
       "    }\n",
       "\n",
       "    .dataframe tbody tr th {\n",
       "        vertical-align: top;\n",
       "    }\n",
       "\n",
       "    .dataframe thead th {\n",
       "        text-align: right;\n",
       "    }\n",
       "</style>\n",
       "<table border=\"1\" class=\"dataframe\">\n",
       "  <thead>\n",
       "    <tr style=\"text-align: right;\">\n",
       "      <th></th>\n",
       "      <th>№</th>\n",
       "      <th>autor</th>\n",
       "      <th>title</th>\n",
       "      <th>court</th>\n",
       "      <th>date_of_design</th>\n",
       "      <th>year</th>\n",
       "      <th>Unnamed: 6</th>\n",
       "      <th>style</th>\n",
       "      <th>genre</th>\n",
       "      <th>genre_2</th>\n",
       "      <th>genre_i</th>\n",
       "      <th>hate_type</th>\n",
       "      <th>country</th>\n",
       "    </tr>\n",
       "  </thead>\n",
       "  <tbody>\n",
       "    <tr>\n",
       "      <th>1000</th>\n",
       "      <td>1001</td>\n",
       "      <td>Цирюльня им. Котовского</td>\n",
       "      <td>Родимый край</td>\n",
       "      <td>Советский районный суд Астрахани</td>\n",
       "      <td>2020-10-26</td>\n",
       "      <td>2020</td>\n",
       "      <td>Цирюльня им. КотовскогоРодимый край</td>\n",
       "      <td>rock</td>\n",
       "      <td>heavy metal;oi;punk;speed metal</td>\n",
       "      <td>hardcore;metal;punk</td>\n",
       "      <td>RAC</td>\n",
       "      <td>nationalism</td>\n",
       "      <td>Украина</td>\n",
       "    </tr>\n",
       "    <tr>\n",
       "      <th>186</th>\n",
       "      <td>187</td>\n",
       "      <td>Циклон-Б</td>\n",
       "      <td>Мертвый жид</td>\n",
       "      <td>Центральный районный суд Воронежа</td>\n",
       "      <td>2013-01-11</td>\n",
       "      <td>2013</td>\n",
       "      <td>Циклон-БМертвый жид</td>\n",
       "      <td>rock</td>\n",
       "      <td>hardcore;oi</td>\n",
       "      <td>hardcore</td>\n",
       "      <td>RAC</td>\n",
       "      <td>nationalism</td>\n",
       "      <td>Россия</td>\n",
       "    </tr>\n",
       "    <tr>\n",
       "      <th>44</th>\n",
       "      <td>45</td>\n",
       "      <td>ХорСС</td>\n",
       "      <td>Героин</td>\n",
       "      <td>Кировский районный суд Томска</td>\n",
       "      <td>2009-07-21</td>\n",
       "      <td>2009</td>\n",
       "      <td>ХорССГероин</td>\n",
       "      <td>rock</td>\n",
       "      <td>black metal;hardcore;oi;thrash</td>\n",
       "      <td>hardcore;metal</td>\n",
       "      <td>RAC</td>\n",
       "      <td>nationalism</td>\n",
       "      <td>Россия</td>\n",
       "    </tr>\n",
       "  </tbody>\n",
       "</table>\n",
       "</div>"
      ],
      "text/plain": [
       "         №                    autor         title  \\\n",
       "1000  1001  Цирюльня им. Котовского  Родимый край   \n",
       "186    187                 Циклон-Б   Мертвый жид   \n",
       "44      45                    ХорСС        Героин   \n",
       "\n",
       "                                  court date_of_design  year  \\\n",
       "1000   Советский районный суд Астрахани     2020-10-26  2020   \n",
       "186   Центральный районный суд Воронежа     2013-01-11  2013   \n",
       "44        Кировский районный суд Томска     2009-07-21  2009   \n",
       "\n",
       "                               Unnamed: 6 style  \\\n",
       "1000  Цирюльня им. КотовскогоРодимый край  rock   \n",
       "186                   Циклон-БМертвый жид  rock   \n",
       "44                            ХорССГероин  rock   \n",
       "\n",
       "                                genre              genre_2 genre_i  \\\n",
       "1000  heavy metal;oi;punk;speed metal  hardcore;metal;punk     RAC   \n",
       "186                       hardcore;oi             hardcore     RAC   \n",
       "44     black metal;hardcore;oi;thrash       hardcore;metal     RAC   \n",
       "\n",
       "        hate_type  country  \n",
       "1000  nationalism  Украина  \n",
       "186   nationalism   Россия  \n",
       "44    nationalism   Россия  "
      ]
     },
     "execution_count": 14,
     "metadata": {},
     "output_type": "execute_result"
    }
   ],
   "source": [
    "work.sample(3)"
   ]
  },
  {
   "cell_type": "code",
   "execution_count": 15,
   "metadata": {},
   "outputs": [
    {
     "data": {
      "text/plain": [
       "№                          int64\n",
       "autor                     object\n",
       "title                     object\n",
       "court                     object\n",
       "date_of_design    datetime64[ns]\n",
       "year                       int64\n",
       "Unnamed: 6                object\n",
       "style                     object\n",
       "genre                     object\n",
       "genre_2                   object\n",
       "genre_i                   object\n",
       "hate_type                 object\n",
       "country                   object\n",
       "dtype: object"
      ]
     },
     "execution_count": 15,
     "metadata": {},
     "output_type": "execute_result"
    }
   ],
   "source": [
    "work.dtypes"
   ]
  },
  {
   "cell_type": "code",
   "execution_count": 16,
   "metadata": {},
   "outputs": [],
   "source": [
    "work = work.astype({'genre_i': 'object'})"
   ]
  },
  {
   "cell_type": "code",
   "execution_count": 17,
   "metadata": {},
   "outputs": [
    {
     "data": {
      "text/plain": [
       "0                      hardcore\n",
       "1                      hardcore\n",
       "2                      hardcore\n",
       "3                      hardcore\n",
       "4                      hardcore\n",
       "                 ...           \n",
       "1005    acoustic rock;hard rock\n",
       "1006    acoustic rock;hard rock\n",
       "1007                    nasheed\n",
       "1008                        rap\n",
       "1009         hard rock;hardcore\n",
       "Name: genre_2, Length: 1010, dtype: object"
      ]
     },
     "execution_count": 17,
     "metadata": {},
     "output_type": "execute_result"
    }
   ],
   "source": [
    "work.genre_2"
   ]
  },
  {
   "cell_type": "code",
   "execution_count": 18,
   "metadata": {},
   "outputs": [],
   "source": [
    "# сортирую данные внутри ячейки\n",
    "\n",
    "work['new'] = work.genre_i.map(lambda data: ','.join(sorted(data.split(','))))"
   ]
  },
  {
   "cell_type": "code",
   "execution_count": null,
   "metadata": {},
   "outputs": [],
   "source": []
  },
  {
   "cell_type": "code",
   "execution_count": 19,
   "metadata": {},
   "outputs": [
    {
     "data": {
      "text/html": [
       "<div>\n",
       "<style scoped>\n",
       "    .dataframe tbody tr th:only-of-type {\n",
       "        vertical-align: middle;\n",
       "    }\n",
       "\n",
       "    .dataframe tbody tr th {\n",
       "        vertical-align: top;\n",
       "    }\n",
       "\n",
       "    .dataframe thead th {\n",
       "        text-align: right;\n",
       "    }\n",
       "</style>\n",
       "<table border=\"1\" class=\"dataframe\">\n",
       "  <thead>\n",
       "    <tr style=\"text-align: right;\">\n",
       "      <th></th>\n",
       "      <th>№</th>\n",
       "      <th>autor</th>\n",
       "      <th>title</th>\n",
       "      <th>court</th>\n",
       "      <th>date_of_design</th>\n",
       "      <th>year</th>\n",
       "      <th>Unnamed: 6</th>\n",
       "      <th>style</th>\n",
       "      <th>genre</th>\n",
       "      <th>genre_2</th>\n",
       "      <th>genre_i</th>\n",
       "      <th>hate_type</th>\n",
       "      <th>country</th>\n",
       "      <th>new</th>\n",
       "    </tr>\n",
       "  </thead>\n",
       "  <tbody>\n",
       "    <tr>\n",
       "      <th>1007</th>\n",
       "      <td>1008</td>\n",
       "      <td>Студия Джундуллах</td>\n",
       "      <td>Мы моджахеды, войско Аллаха</td>\n",
       "      <td>Центральный районный суд Воронежа</td>\n",
       "      <td>2021-02-03</td>\n",
       "      <td>2021</td>\n",
       "      <td>Студия ДжундуллахМы моджахеды, войско Аллаха</td>\n",
       "      <td>ethnic</td>\n",
       "      <td>nasheed</td>\n",
       "      <td>nasheed</td>\n",
       "      <td>islamic</td>\n",
       "      <td>islamism</td>\n",
       "      <td>Россия</td>\n",
       "      <td>islamic</td>\n",
       "    </tr>\n",
       "    <tr>\n",
       "      <th>1008</th>\n",
       "      <td>1009</td>\n",
       "      <td>Pocherk</td>\n",
       "      <td>1488 kmh</td>\n",
       "      <td>Центральный районный суд Хабаровска</td>\n",
       "      <td>2020-05-21</td>\n",
       "      <td>2020</td>\n",
       "      <td>Pocherk1488 kmh</td>\n",
       "      <td>hip hop</td>\n",
       "      <td>underground rap</td>\n",
       "      <td>rap</td>\n",
       "      <td>none</td>\n",
       "      <td>nationalism</td>\n",
       "      <td>Россия</td>\n",
       "      <td>none</td>\n",
       "    </tr>\n",
       "    <tr>\n",
       "      <th>1009</th>\n",
       "      <td>1010</td>\n",
       "      <td>Коловрат</td>\n",
       "      <td>Русский медведь</td>\n",
       "      <td>Железнодорожный районный суд Екатеринбурга</td>\n",
       "      <td>2019-09-25</td>\n",
       "      <td>2019</td>\n",
       "      <td>КоловратРусский медведь</td>\n",
       "      <td>rock</td>\n",
       "      <td>hard rock;oi</td>\n",
       "      <td>hard rock;hardcore</td>\n",
       "      <td>RAC</td>\n",
       "      <td>nationalism</td>\n",
       "      <td>Россия</td>\n",
       "      <td>RAC</td>\n",
       "    </tr>\n",
       "  </tbody>\n",
       "</table>\n",
       "</div>"
      ],
      "text/plain": [
       "         №              autor                        title  \\\n",
       "1007  1008  Студия Джундуллах  Мы моджахеды, войско Аллаха   \n",
       "1008  1009            Pocherk                     1488 kmh   \n",
       "1009  1010           Коловрат              Русский медведь   \n",
       "\n",
       "                                           court date_of_design  year  \\\n",
       "1007           Центральный районный суд Воронежа     2021-02-03  2021   \n",
       "1008         Центральный районный суд Хабаровска     2020-05-21  2020   \n",
       "1009  Железнодорожный районный суд Екатеринбурга     2019-09-25  2019   \n",
       "\n",
       "                                        Unnamed: 6    style            genre  \\\n",
       "1007  Студия ДжундуллахМы моджахеды, войско Аллаха   ethnic          nasheed   \n",
       "1008                               Pocherk1488 kmh  hip hop  underground rap   \n",
       "1009                       КоловратРусский медведь     rock     hard rock;oi   \n",
       "\n",
       "                 genre_2  genre_i    hate_type country      new  \n",
       "1007             nasheed  islamic     islamism  Россия  islamic  \n",
       "1008                 rap     none  nationalism  Россия     none  \n",
       "1009  hard rock;hardcore      RAC  nationalism  Россия      RAC  "
      ]
     },
     "execution_count": 19,
     "metadata": {},
     "output_type": "execute_result"
    }
   ],
   "source": [
    "work.tail(3)"
   ]
  },
  {
   "cell_type": "code",
   "execution_count": null,
   "metadata": {},
   "outputs": [],
   "source": [
    "work.to_excel('C:/00_Projects/Minjust/temp.xlsx', index=False)"
   ]
  },
  {
   "cell_type": "code",
   "execution_count": null,
   "metadata": {},
   "outputs": [],
   "source": []
  }
 ],
 "metadata": {
  "kernelspec": {
   "display_name": "Python 3",
   "language": "python",
   "name": "python3"
  },
  "language_info": {
   "codemirror_mode": {
    "name": "ipython",
    "version": 3
   },
   "file_extension": ".py",
   "mimetype": "text/x-python",
   "name": "python",
   "nbconvert_exporter": "python",
   "pygments_lexer": "ipython3",
   "version": "3.8.8"
  }
 },
 "nbformat": 4,
 "nbformat_minor": 2
}
