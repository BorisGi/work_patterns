{
 "cells": [
  {
   "cell_type": "code",
   "execution_count": 2,
   "id": "5fe6059f",
   "metadata": {},
   "outputs": [],
   "source": [
    "from datetime import datetime, date, time\n",
    "\n",
    "import re"
   ]
  },
  {
   "cell_type": "code",
   "execution_count": null,
   "id": "e22c05f5",
   "metadata": {},
   "outputs": [],
   "source": []
  },
  {
   "cell_type": "code",
   "execution_count": null,
   "id": "9de23e05",
   "metadata": {},
   "outputs": [],
   "source": [
    "work['column'] = work['column'].str.replace('января', '-01-', regex=True)\n",
    "work['column'] = work['column'].str.replace('февраля', '-02-', regex=True)\n",
    "work['column'] = work['column'].str.replace('марта', '-03-', regex=True)\n",
    "work['column'] = work['column'].str.replace('апреля', '-04-', regex=True)\n",
    "work['column'] = work['column'].str.replace('мая', '-05-', regex=True)\n",
    "work['column'] = work['column'].str.replace('июня', '-06-', regex=True)\n",
    "work['column'] = work['column'].str.replace('июля', '-07-', regex=True)\n",
    "work['column'] = work['column'].str.replace('августа', '-08-', regex=True)\n",
    "work['column'] = work['column'].str.replace('сентября', '-09-', regex=True)\n",
    "work['column'] = work['column'].str.replace('октября', '-10-', regex=True)\n",
    "work['column'] = work['column'].str.replace('ноября', '-11-', regex=True)\n",
    "work['column'] = work['column'].str.replace('декабря', '-12-', regex=True)\n",
    "work['column'] = work['column'].str.replace(' ', '', regex=True)"
   ]
  },
  {
   "cell_type": "code",
   "execution_count": null,
   "id": "93ddefa2",
   "metadata": {},
   "outputs": [],
   "source": []
  },
  {
   "cell_type": "code",
   "execution_count": null,
   "id": "c7e739ba",
   "metadata": {},
   "outputs": [],
   "source": []
  },
  {
   "cell_type": "code",
   "execution_count": null,
   "id": "607f1055",
   "metadata": {},
   "outputs": [],
   "source": []
  }
 ],
 "metadata": {
  "kernelspec": {
   "display_name": "Python 3 (ipykernel)",
   "language": "python",
   "name": "python3"
  },
  "language_info": {
   "codemirror_mode": {
    "name": "ipython",
    "version": 3
   },
   "file_extension": ".py",
   "mimetype": "text/x-python",
   "name": "python",
   "nbconvert_exporter": "python",
   "pygments_lexer": "ipython3",
   "version": "3.9.7"
  }
 },
 "nbformat": 4,
 "nbformat_minor": 5
}
