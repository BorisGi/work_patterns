{
 "cells": [
  {
   "cell_type": "markdown",
   "id": "ec623308",
   "metadata": {},
   "source": [
    "https://coderlessons.com/articles/veb-razrabotka-articles/obrabotka-xml-v-python-s-elementtree"
   ]
  },
  {
   "cell_type": "code",
   "execution_count": null,
   "id": "620aa5ff",
   "metadata": {},
   "outputs": [],
   "source": []
  },
  {
   "cell_type": "markdown",
   "id": "7704b48b",
   "metadata": {},
   "source": [
    "## Библиотеки и настройки ##"
   ]
  },
  {
   "cell_type": "code",
   "execution_count": 1,
   "id": "518ddfae",
   "metadata": {},
   "outputs": [],
   "source": [
    "import xml.etree.ElementTree as ET"
   ]
  },
  {
   "cell_type": "code",
   "execution_count": 2,
   "id": "b5ab9ae9",
   "metadata": {},
   "outputs": [],
   "source": [
    "file_path = 'C:/00_Data/'"
   ]
  },
  {
   "cell_type": "code",
   "execution_count": null,
   "id": "1ffa488b",
   "metadata": {},
   "outputs": [],
   "source": []
  },
  {
   "cell_type": "markdown",
   "id": "cde98016",
   "metadata": {},
   "source": [
    "## Разбор дерева ##"
   ]
  },
  {
   "cell_type": "code",
   "execution_count": 7,
   "id": "28809a0c",
   "metadata": {},
   "outputs": [],
   "source": [
    "# загружаю файл \n",
    "\n",
    "tree = ET.parse(file_path + 'sample.xml')"
   ]
  },
  {
   "cell_type": "code",
   "execution_count": 8,
   "id": "a87d3a36",
   "metadata": {},
   "outputs": [
    {
     "data": {
      "text/plain": [
       "<xml.etree.ElementTree.ElementTree at 0x292a2fac2e0>"
      ]
     },
     "execution_count": 8,
     "metadata": {},
     "output_type": "execute_result"
    }
   ],
   "source": [
    "tree"
   ]
  },
  {
   "cell_type": "code",
   "execution_count": 9,
   "id": "404d763e",
   "metadata": {},
   "outputs": [
    {
     "data": {
      "text/plain": [
       "<Element 'studentsList' at 0x00000292A2FAF270>"
      ]
     },
     "execution_count": 9,
     "metadata": {},
     "output_type": "execute_result"
    }
   ],
   "source": [
    "# корень, должен быть element\n",
    "\n",
    "tree.getroot()"
   ]
  },
  {
   "cell_type": "code",
   "execution_count": 10,
   "id": "fea7c4e9",
   "metadata": {},
   "outputs": [
    {
     "data": {
      "text/plain": [
       "('studentsList', {})"
      ]
     },
     "execution_count": 10,
     "metadata": {},
     "output_type": "execute_result"
    }
   ],
   "source": [
    "# дерево, теги и атрибуты\n",
    "\n",
    "root = tree.getroot()\n",
    "root.tag, root.attrib"
   ]
  },
  {
   "cell_type": "code",
   "execution_count": 11,
   "id": "8e35f5ef",
   "metadata": {},
   "outputs": [
    {
     "name": "stdout",
     "output_type": "stream",
     "text": [
      "student {'id': '1'}\n",
      "student {'id': '2'}\n"
     ]
    }
   ],
   "source": [
    "# все теги и атрибуты \n",
    "\n",
    "for child_of_root in root:\n",
    "    print(child_of_root.tag, child_of_root.attrib)"
   ]
  },
  {
   "cell_type": "code",
   "execution_count": 12,
   "id": "0d398c97",
   "metadata": {},
   "outputs": [
    {
     "data": {
      "text/plain": [
       "('student', '\\n        ')"
      ]
     },
     "execution_count": 12,
     "metadata": {},
     "output_type": "execute_result"
    }
   ],
   "source": [
    "root[0].tag, root[0].text"
   ]
  },
  {
   "cell_type": "markdown",
   "id": "d6489600",
   "metadata": {},
   "source": [
    "iter — итерация в глубину, позволяет найти все элементы"
   ]
  },
  {
   "cell_type": "code",
   "execution_count": 13,
   "id": "ae37bcbc",
   "metadata": {},
   "outputs": [
    {
     "name": "stdout",
     "output_type": "stream",
     "text": [
      "studentsList {}\n",
      "student {'id': '1'}\n",
      "firstName {}\n",
      "lastName {}\n",
      "certificate {}\n",
      "scores {}\n",
      "module1 {}\n",
      "module2 {}\n",
      "module3 {}\n",
      "student {'id': '2'}\n",
      "firstName {}\n",
      "lastName {}\n",
      "certificate {}\n",
      "scores {}\n",
      "module1 {}\n",
      "module2 {}\n",
      "module3 {}\n"
     ]
    }
   ],
   "source": [
    "for elem in tree.iter():\n",
    "    print(elem.tag, elem.attrib)"
   ]
  },
  {
   "cell_type": "code",
   "execution_count": 17,
   "id": "a8992164",
   "metadata": {},
   "outputs": [
    {
     "name": "stdout",
     "output_type": "stream",
     "text": [
      "firstName {}\n",
      "firstName {}\n"
     ]
    }
   ],
   "source": [
    "# итерация по тегу\n",
    "\n",
    "for elem in tree.iter('firstName'):\n",
    "    print(elem.tag, elem.attrib)"
   ]
  },
  {
   "cell_type": "code",
   "execution_count": 24,
   "id": "bddebf03",
   "metadata": {},
   "outputs": [
    {
     "name": "stdout",
     "output_type": "stream",
     "text": [
      "firstName: Greg\n",
      "firstName: Wirt\n"
     ]
    }
   ],
   "source": [
    "# содержимое тегов\n",
    "\n",
    "for elem in tree.iter('firstName'):\n",
    "    print(elem.tag +': ' + elem.text)"
   ]
  },
  {
   "cell_type": "code",
   "execution_count": null,
   "id": "267b02b3",
   "metadata": {},
   "outputs": [],
   "source": []
  },
  {
   "cell_type": "code",
   "execution_count": 20,
   "id": "0dd9b3bc",
   "metadata": {},
   "outputs": [
    {
     "name": "stdout",
     "output_type": "stream",
     "text": [
      "certificate {}\n",
      "certificate {}\n"
     ]
    }
   ],
   "source": [
    "# итерация по XPath\n",
    "\n",
    "for elem in tree.iterfind('student/certificate'):\n",
    "    print(elem.tag, elem.attrib)"
   ]
  },
  {
   "cell_type": "code",
   "execution_count": null,
   "id": "7f4b49ea",
   "metadata": {},
   "outputs": [],
   "source": [
    "# все ветви с нужным атрибутом\n",
    "\n",
    "for elem in tree.iterfind('branch[@name=\"release01\"]'):\n",
    "    print(elem.tag, elem.attrib)"
   ]
  },
  {
   "cell_type": "code",
   "execution_count": null,
   "id": "7e6c0b5f",
   "metadata": {},
   "outputs": [],
   "source": []
  },
  {
   "cell_type": "code",
   "execution_count": 29,
   "id": "655c9b2b",
   "metadata": {},
   "outputs": [
    {
     "name": "stdout",
     "output_type": "stream",
     "text": [
      "iter(iterable) -> iterator\n",
      "iter(callable, sentinel) -> iterator\n",
      "\n",
      "Get an iterator from an object.  In the first form, the argument must\n",
      "supply its own iterator, or be a sequence.\n",
      "In the second form, the callable is called until it returns the sentinel.\n"
     ]
    }
   ],
   "source": [
    "print(iter.__doc__)"
   ]
  },
  {
   "cell_type": "code",
   "execution_count": null,
   "id": "be98bf70",
   "metadata": {},
   "outputs": [],
   "source": []
  },
  {
   "cell_type": "code",
   "execution_count": null,
   "id": "289e6eb5",
   "metadata": {},
   "outputs": [],
   "source": []
  },
  {
   "cell_type": "markdown",
   "id": "0bf51649",
   "metadata": {},
   "source": [
    "## Изменение и запись XML ##"
   ]
  },
  {
   "cell_type": "code",
   "execution_count": null,
   "id": "50a00842",
   "metadata": {},
   "outputs": [],
   "source": []
  },
  {
   "cell_type": "code",
   "execution_count": null,
   "id": "fe48740a",
   "metadata": {},
   "outputs": [],
   "source": []
  }
 ],
 "metadata": {
  "kernelspec": {
   "display_name": "Python 3",
   "language": "python",
   "name": "python3"
  },
  "language_info": {
   "codemirror_mode": {
    "name": "ipython",
    "version": 3
   },
   "file_extension": ".py",
   "mimetype": "text/x-python",
   "name": "python",
   "nbconvert_exporter": "python",
   "pygments_lexer": "ipython3",
   "version": "3.8.8"
  }
 },
 "nbformat": 4,
 "nbformat_minor": 5
}
