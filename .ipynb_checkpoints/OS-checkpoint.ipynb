{
 "cells": [
  {
   "cell_type": "code",
   "execution_count": null,
   "metadata": {},
   "outputs": [],
   "source": [
    "# импорт библиотек\n",
    "\n",
    "import os\n",
    "\n",
    "import pandas as pd"
   ]
  },
  {
   "cell_type": "markdown",
   "metadata": {},
   "source": [
    "### Список файлов в папке ###"
   ]
  },
  {
   "cell_type": "code",
   "execution_count": null,
   "metadata": {},
   "outputs": [],
   "source": [
    "file_path = 'C:/00_Data/'"
   ]
  },
  {
   "cell_type": "code",
   "execution_count": null,
   "metadata": {},
   "outputs": [],
   "source": [
    "file_path_add = file_path + input()"
   ]
  },
  {
   "cell_type": "code",
   "execution_count": null,
   "metadata": {},
   "outputs": [],
   "source": [
    "# вытаскиваю названия файлов в список file_list\n",
    "\n",
    "file_list = []\n",
    "\n",
    "for root, dirs, files in os.walk(file_path_add):\n",
    "    \n",
    "    for filename in files:\n",
    "        file_list += [filename]"
   ]
  },
  {
   "cell_type": "code",
   "execution_count": null,
   "metadata": {},
   "outputs": [],
   "source": [
    "print(file_list)"
   ]
  },
  {
   "cell_type": "code",
   "execution_count": null,
   "metadata": {},
   "outputs": [],
   "source": []
  },
  {
   "cell_type": "markdown",
   "metadata": {},
   "source": [
    "## Датафрейм с описанием файлов"
   ]
  },
  {
   "cell_type": "code",
   "execution_count": null,
   "metadata": {},
   "outputs": [],
   "source": []
  },
  {
   "cell_type": "code",
   "execution_count": null,
   "metadata": {},
   "outputs": [],
   "source": [
    "data = [] # список для данных\n",
    "\n",
    "for file in file_list:\n",
    "    temp = pd.read_excel(file_path_add + file, sheet_name='meta')\n",
    "    description = temp.iloc[0][2]\n",
    "    \n",
    "    data.append([description, file, file_path_add])"
   ]
  },
  {
   "cell_type": "code",
   "execution_count": null,
   "metadata": {},
   "outputs": [],
   "source": [
    "# Записываю в датафрейм\n",
    "\n",
    "head_list = ['description', 'file', 'file_path_add']\n",
    "\n",
    "work_content = pd.DataFrame(data, columns=head_list)"
   ]
  },
  {
   "cell_type": "code",
   "execution_count": null,
   "metadata": {},
   "outputs": [],
   "source": [
    "work_content"
   ]
  },
  {
   "cell_type": "code",
   "execution_count": null,
   "metadata": {},
   "outputs": [],
   "source": [
    "work_content.to_excel(file_path + 'temp.xlsx', index=False)"
   ]
  },
  {
   "cell_type": "code",
   "execution_count": null,
   "metadata": {},
   "outputs": [],
   "source": []
  },
  {
   "cell_type": "code",
   "execution_count": null,
   "metadata": {},
   "outputs": [],
   "source": []
  },
  {
   "cell_type": "code",
   "execution_count": null,
   "metadata": {},
   "outputs": [],
   "source": []
  },
  {
   "cell_type": "markdown",
   "metadata": {},
   "source": [
    "## Объединение файлов"
   ]
  },
  {
   "cell_type": "code",
   "execution_count": null,
   "metadata": {},
   "outputs": [],
   "source": []
  },
  {
   "cell_type": "code",
   "execution_count": null,
   "metadata": {},
   "outputs": [],
   "source": [
    "%%time\n",
    "\n",
    "# объединяю csv файлы с помощью Pandas\n",
    "\n",
    "new_work = pd.DataFrame() # новый датафрейм\n",
    "\n",
    "for file in file_list:\n",
    "    temp = pd.read_csv(file_path_add + file, low_memory=False)\n",
    "    \n",
    "    new_work = new_work.append(temp, ignore_index = True)\n",
    "    \n",
    "print('Количество строк: ', new_work.shape[0])\n",
    "\n",
    "# удаляю дубликаты\n",
    "new_work = new_work.drop_duplicates()\n",
    "\n",
    "print('Количество строк после удаляения дублей: ', new_work.shape[0])"
   ]
  },
  {
   "cell_type": "code",
   "execution_count": null,
   "metadata": {},
   "outputs": [],
   "source": [
    "new_work.to_csv(file_path + 'temp_666.csv', index=False)"
   ]
  },
  {
   "cell_type": "code",
   "execution_count": null,
   "metadata": {},
   "outputs": [],
   "source": [
    "#new_work.to_excel(file_path + 'napopravku_ekb.xlsx', index=False)"
   ]
  },
  {
   "cell_type": "code",
   "execution_count": null,
   "metadata": {},
   "outputs": [],
   "source": [
    "new_work.head()"
   ]
  },
  {
   "cell_type": "code",
   "execution_count": null,
   "metadata": {},
   "outputs": [],
   "source": [
    "new_work = new_work.merge(clinic_tags, on=['clinic', 'clinic_page'], how='left')"
   ]
  },
  {
   "cell_type": "code",
   "execution_count": null,
   "metadata": {},
   "outputs": [],
   "source": []
  },
  {
   "cell_type": "code",
   "execution_count": null,
   "metadata": {},
   "outputs": [],
   "source": []
  },
  {
   "cell_type": "markdown",
   "metadata": {},
   "source": [
    "### Переименование файлов ###"
   ]
  },
  {
   "cell_type": "markdown",
   "metadata": {},
   "source": [
    "**Важно:** rename перемещает файлы, а не просто переименовывает."
   ]
  },
  {
   "cell_type": "code",
   "execution_count": null,
   "metadata": {},
   "outputs": [],
   "source": [
    "# пути к папкам\n",
    "\n",
    "file_path_old = 'C:/00_Data/00_fin_old/'\n",
    "file_path_new = 'C:/00_Data/00_fin/'"
   ]
  },
  {
   "cell_type": "code",
   "execution_count": null,
   "metadata": {},
   "outputs": [],
   "source": [
    "# создаю новую папку для новых файлов\n",
    "\n",
    "os.mkdir(file_path_new)"
   ]
  },
  {
   "cell_type": "code",
   "execution_count": null,
   "metadata": {},
   "outputs": [],
   "source": [
    "# Базовая часть новых имен\n",
    "\n",
    "new = 'fin_report_'"
   ]
  },
  {
   "cell_type": "code",
   "execution_count": null,
   "metadata": {},
   "outputs": [],
   "source": [
    "# вытаскиваю названия файлов в список file_list\n",
    "\n",
    "file_list = []\n",
    "\n",
    "for root, dirs, files in os.walk(file_path_old):\n",
    "    \n",
    "    for filename in files:\n",
    "        file_list += [filename]  "
   ]
  },
  {
   "cell_type": "code",
   "execution_count": null,
   "metadata": {},
   "outputs": [],
   "source": [
    "# переименовываю файлы\n",
    "\n",
    "for item in enumerate(file_list):\n",
    "    \n",
    "    old_name = file_path_old + item[1]\n",
    "    new_name = file_path_new + new + str(item[0]) + '.csv'\n",
    "    \n",
    "    os.rename(old_name, new_name)"
   ]
  },
  {
   "cell_type": "code",
   "execution_count": null,
   "metadata": {},
   "outputs": [],
   "source": []
  }
 ],
 "metadata": {
  "kernelspec": {
   "display_name": "Python 3",
   "language": "python",
   "name": "python3"
  },
  "language_info": {
   "codemirror_mode": {
    "name": "ipython",
    "version": 3
   },
   "file_extension": ".py",
   "mimetype": "text/x-python",
   "name": "python",
   "nbconvert_exporter": "python",
   "pygments_lexer": "ipython3",
   "version": "3.8.8"
  }
 },
 "nbformat": 4,
 "nbformat_minor": 2
}
