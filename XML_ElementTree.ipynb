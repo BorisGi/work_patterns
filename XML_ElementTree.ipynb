{
 "cells": [
  {
   "cell_type": "markdown",
   "id": "ec623308",
   "metadata": {},
   "source": [
    "https://coderlessons.com/articles/veb-razrabotka-articles/obrabotka-xml-v-python-s-elementtree"
   ]
  },
  {
   "cell_type": "code",
   "execution_count": null,
   "id": "620aa5ff",
   "metadata": {},
   "outputs": [],
   "source": []
  },
  {
   "cell_type": "code",
   "execution_count": 1,
   "id": "518ddfae",
   "metadata": {},
   "outputs": [],
   "source": [
    "import xml.etree.ElementTree as ET"
   ]
  },
  {
   "cell_type": "code",
   "execution_count": 2,
   "id": "b5ab9ae9",
   "metadata": {},
   "outputs": [],
   "source": [
    "file_path = 'C:/00_Data/'"
   ]
  },
  {
   "cell_type": "code",
   "execution_count": 13,
   "id": "28809a0c",
   "metadata": {},
   "outputs": [],
   "source": [
    "# загружаю файл \n",
    "\n",
    "tree = ET.ElementTree(file=file_path + 'sample.xml')"
   ]
  },
  {
   "cell_type": "code",
   "execution_count": 14,
   "id": "a87d3a36",
   "metadata": {},
   "outputs": [
    {
     "data": {
      "text/plain": [
       "<xml.etree.ElementTree.ElementTree at 0x24106e9aee0>"
      ]
     },
     "execution_count": 14,
     "metadata": {},
     "output_type": "execute_result"
    }
   ],
   "source": [
    "tree"
   ]
  },
  {
   "cell_type": "code",
   "execution_count": 15,
   "id": "404d763e",
   "metadata": {},
   "outputs": [
    {
     "data": {
      "text/plain": [
       "<Element 'doc' at 0x0000024106EACD60>"
      ]
     },
     "execution_count": 15,
     "metadata": {},
     "output_type": "execute_result"
    }
   ],
   "source": [
    "# корень, должен быть element\n",
    "\n",
    "tree.getroot()"
   ]
  },
  {
   "cell_type": "code",
   "execution_count": 17,
   "id": "fea7c4e9",
   "metadata": {},
   "outputs": [
    {
     "data": {
      "text/plain": [
       "('doc', {})"
      ]
     },
     "execution_count": 17,
     "metadata": {},
     "output_type": "execute_result"
    }
   ],
   "source": [
    "root = tree.getroot()\n",
    "root.tag, root.attrib"
   ]
  },
  {
   "cell_type": "code",
   "execution_count": 19,
   "id": "8e35f5ef",
   "metadata": {},
   "outputs": [
    {
     "name": "stdout",
     "output_type": "stream",
     "text": [
      "branch {'name': 'testing', 'hash': '1cdf045c'}\n",
      "branch {'name': 'release01', 'hash': 'f200013e'}\n",
      "branch {'name': 'invalid'}\n"
     ]
    }
   ],
   "source": [
    "for child_of_root in root:\n",
    "    print(child_of_root.tag, child_of_root.attrib)"
   ]
  },
  {
   "cell_type": "code",
   "execution_count": 20,
   "id": "0d398c97",
   "metadata": {},
   "outputs": [
    {
     "data": {
      "text/plain": [
       "('branch', '\\n        text,source\\n    ')"
      ]
     },
     "execution_count": 20,
     "metadata": {},
     "output_type": "execute_result"
    }
   ],
   "source": [
    "root[0].tag, root[0].text"
   ]
  },
  {
   "cell_type": "code",
   "execution_count": null,
   "id": "3ed263fa",
   "metadata": {},
   "outputs": [],
   "source": []
  },
  {
   "cell_type": "markdown",
   "id": "d6489600",
   "metadata": {},
   "source": [
    "iter — итерация в глубину, позволяет найти все элементы"
   ]
  },
  {
   "cell_type": "code",
   "execution_count": 21,
   "id": "ae37bcbc",
   "metadata": {},
   "outputs": [
    {
     "name": "stdout",
     "output_type": "stream",
     "text": [
      "doc {}\n",
      "branch {'name': 'testing', 'hash': '1cdf045c'}\n",
      "branch {'name': 'release01', 'hash': 'f200013e'}\n",
      "sub-branch {'name': 'subrelease01'}\n",
      "branch {'name': 'invalid'}\n"
     ]
    }
   ],
   "source": [
    "for elem in tree.iter():\n",
    "    print(elem.tag, elem.attrib)"
   ]
  },
  {
   "cell_type": "code",
   "execution_count": 24,
   "id": "a8992164",
   "metadata": {},
   "outputs": [
    {
     "name": "stdout",
     "output_type": "stream",
     "text": [
      "branch {'name': 'testing', 'hash': '1cdf045c'}\n",
      "branch {'name': 'release01', 'hash': 'f200013e'}\n",
      "branch {'name': 'invalid'}\n"
     ]
    }
   ],
   "source": [
    "# итерация по тегу\n",
    "\n",
    "for elem in tree.iter(tag='branch'):\n",
    "    print(elem.tag, elem.attrib)"
   ]
  },
  {
   "cell_type": "code",
   "execution_count": null,
   "id": "267b02b3",
   "metadata": {},
   "outputs": [],
   "source": []
  },
  {
   "cell_type": "code",
   "execution_count": 25,
   "id": "0dd9b3bc",
   "metadata": {},
   "outputs": [
    {
     "name": "stdout",
     "output_type": "stream",
     "text": [
      "sub-branch {'name': 'subrelease01'}\n"
     ]
    }
   ],
   "source": [
    "# итерация по XPath\n",
    "\n",
    "for elem in tree.iterfind('branch/sub-branch'):\n",
    "    print(elem.tag, elem.attrib)"
   ]
  },
  {
   "cell_type": "code",
   "execution_count": 26,
   "id": "7f4b49ea",
   "metadata": {},
   "outputs": [
    {
     "name": "stdout",
     "output_type": "stream",
     "text": [
      "branch {'name': 'release01', 'hash': 'f200013e'}\n"
     ]
    }
   ],
   "source": [
    "# все ветви с нужным атрибутом\n",
    "\n",
    "for elem in tree.iterfind('branch[@name=\"release01\"]'):\n",
    "    print(elem.tag, elem.attrib)"
   ]
  },
  {
   "cell_type": "code",
   "execution_count": null,
   "id": "71316438",
   "metadata": {},
   "outputs": [],
   "source": []
  },
  {
   "cell_type": "code",
   "execution_count": null,
   "id": "bddebf03",
   "metadata": {},
   "outputs": [],
   "source": []
  },
  {
   "cell_type": "code",
   "execution_count": null,
   "id": "7e6c0b5f",
   "metadata": {},
   "outputs": [],
   "source": []
  },
  {
   "cell_type": "code",
   "execution_count": null,
   "id": "276ecaeb",
   "metadata": {},
   "outputs": [],
   "source": []
  }
 ],
 "metadata": {
  "kernelspec": {
   "display_name": "Python 3",
   "language": "python",
   "name": "python3"
  },
  "language_info": {
   "codemirror_mode": {
    "name": "ipython",
    "version": 3
   },
   "file_extension": ".py",
   "mimetype": "text/x-python",
   "name": "python",
   "nbconvert_exporter": "python",
   "pygments_lexer": "ipython3",
   "version": "3.8.8"
  }
 },
 "nbformat": 4,
 "nbformat_minor": 5
}
