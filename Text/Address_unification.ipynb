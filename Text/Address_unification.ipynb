{
 "cells": [
  {
   "cell_type": "markdown",
   "metadata": {},
   "source": [
    "Унификация адресов, приведение их к одну виду."
   ]
  },
  {
   "cell_type": "code",
   "execution_count": 1,
   "metadata": {},
   "outputs": [],
   "source": [
    "# загружаю библиотеки\n",
    "\n",
    "import pandas as pd\n",
    "import numpy as np\n",
    "\n",
    "import re\n",
    "import nltk\n",
    "from nltk.corpus import stopwords\n",
    "from nltk.stem import WordNetLemmatizer\n",
    "\n",
    "from pymystem3 import Mystem\n",
    "from tqdm import tqdm_notebook\n",
    "\n",
    "import warnings\n",
    "warnings.filterwarnings(\"ignore\",category=DeprecationWarning)"
   ]
  },
  {
   "cell_type": "code",
   "execution_count": 2,
   "metadata": {},
   "outputs": [],
   "source": [
    "work = pd.read_excel('C:/00_Data/Стоматологии/Москва/napopravku_mos.xlsx', sheet_name='data')"
   ]
  },
  {
   "cell_type": "code",
   "execution_count": 3,
   "metadata": {},
   "outputs": [
    {
     "data": {
      "text/html": [
       "<div>\n",
       "<style scoped>\n",
       "    .dataframe tbody tr th:only-of-type {\n",
       "        vertical-align: middle;\n",
       "    }\n",
       "\n",
       "    .dataframe tbody tr th {\n",
       "        vertical-align: top;\n",
       "    }\n",
       "\n",
       "    .dataframe thead th {\n",
       "        text-align: right;\n",
       "    }\n",
       "</style>\n",
       "<table border=\"1\" class=\"dataframe\">\n",
       "  <thead>\n",
       "    <tr style=\"text-align: right;\">\n",
       "      <th></th>\n",
       "      <th>№</th>\n",
       "      <th>Unnamed: 1</th>\n",
       "      <th>clinic</th>\n",
       "      <th>verified</th>\n",
       "      <th>address</th>\n",
       "      <th>region</th>\n",
       "      <th>city</th>\n",
       "      <th>address_clear</th>\n",
       "      <th>type_street</th>\n",
       "      <th>street</th>\n",
       "      <th>...</th>\n",
       "      <th>main_clinic</th>\n",
       "      <th>main_clinic_page</th>\n",
       "      <th>advantages</th>\n",
       "      <th>description</th>\n",
       "      <th>year_f</th>\n",
       "      <th>doc_numbers</th>\n",
       "      <th>specialist</th>\n",
       "      <th>full_price</th>\n",
       "      <th>clinic_table</th>\n",
       "      <th>clinic_page</th>\n",
       "    </tr>\n",
       "  </thead>\n",
       "  <tbody>\n",
       "    <tr>\n",
       "      <th>0</th>\n",
       "      <td>1</td>\n",
       "      <td>NaN</td>\n",
       "      <td>НМИЦ терапии и профилактической медицины в Пет...</td>\n",
       "      <td>1</td>\n",
       "      <td>г Москва, пер Петроверигский, д 10 стр 3</td>\n",
       "      <td>NaN</td>\n",
       "      <td>Москва</td>\n",
       "      <td>Петроверигский, д. 10, , стр. 3$</td>\n",
       "      <td>переулок</td>\n",
       "      <td>Петроверигский</td>\n",
       "      <td>...</td>\n",
       "      <td>ФГБУ \"Национальный медицинский исследовательск...</td>\n",
       "      <td>https://napopravku.ru/moskva/clinics/fgbu-nats...</td>\n",
       "      <td>['Более 100 врачей', 'Средний рейтинг врачей 4...</td>\n",
       "      <td>НМИЦ профилактической медицины в Петроверигско...</td>\n",
       "      <td>none</td>\n",
       "      <td>102</td>\n",
       "      <td>{'Сакович Елена Иваровна': {'rating': '5.0', '...</td>\n",
       "      <td>{'Водительская медкомиссия': 'от 800', 'МРТ го...</td>\n",
       "      <td>{'Головная клиника': 'ФГБУ \"Национальный медиц...</td>\n",
       "      <td>https://napopravku.ru/moskva/clinics/nmits-pro...</td>\n",
       "    </tr>\n",
       "    <tr>\n",
       "      <th>1</th>\n",
       "      <td>2</td>\n",
       "      <td>NaN</td>\n",
       "      <td>Стомед (100MED) в Люберцах</td>\n",
       "      <td>1</td>\n",
       "      <td>Московская обл, г Люберцы, пр-кт Октябрьский, ...</td>\n",
       "      <td>Московская область</td>\n",
       "      <td>Люберцы</td>\n",
       "      <td>Октябрьский, д. 133, , $</td>\n",
       "      <td>проспект</td>\n",
       "      <td>Октябрьский</td>\n",
       "      <td>...</td>\n",
       "      <td>Стомед, сеть медицинских центров</td>\n",
       "      <td>https://napopravku.ru/moskva/clinics/stomed-se...</td>\n",
       "      <td>['18 лет работаем на рынке', 'Более 100 врачей...</td>\n",
       "      <td>Стомед (100MED) в Люберцах – многопрофильный м...</td>\n",
       "      <td>2003</td>\n",
       "      <td>131</td>\n",
       "      <td>{'Вертлина Ирина Леонидовна': {'rating': '5.0'...</td>\n",
       "      <td>{'Флюорография': '1 200', 'Колоноскопия кишечн...</td>\n",
       "      <td>{'Головная клиника': 'Стомед, сеть медицинских...</td>\n",
       "      <td>https://napopravku.ru/moskva/clinics/stomed-10...</td>\n",
       "    </tr>\n",
       "  </tbody>\n",
       "</table>\n",
       "<p>2 rows × 33 columns</p>\n",
       "</div>"
      ],
      "text/plain": [
       "   №  Unnamed: 1                                             clinic  verified  \\\n",
       "0  1         NaN  НМИЦ терапии и профилактической медицины в Пет...         1   \n",
       "1  2         NaN                         Стомед (100MED) в Люберцах         1   \n",
       "\n",
       "                                             address              region  \\\n",
       "0           г Москва, пер Петроверигский, д 10 стр 3                 NaN   \n",
       "1  Московская обл, г Люберцы, пр-кт Октябрьский, ...  Московская область   \n",
       "\n",
       "      city                     address_clear type_street          street  ...  \\\n",
       "0   Москва  Петроверигский, д. 10, , стр. 3$    переулок  Петроверигский  ...   \n",
       "1  Люберцы          Октябрьский, д. 133, , $    проспект     Октябрьский  ...   \n",
       "\n",
       "                                         main_clinic  \\\n",
       "0  ФГБУ \"Национальный медицинский исследовательск...   \n",
       "1                   Стомед, сеть медицинских центров   \n",
       "\n",
       "                                    main_clinic_page  \\\n",
       "0  https://napopravku.ru/moskva/clinics/fgbu-nats...   \n",
       "1  https://napopravku.ru/moskva/clinics/stomed-se...   \n",
       "\n",
       "                                          advantages  \\\n",
       "0  ['Более 100 врачей', 'Средний рейтинг врачей 4...   \n",
       "1  ['18 лет работаем на рынке', 'Более 100 врачей...   \n",
       "\n",
       "                                         description year_f doc_numbers  \\\n",
       "0  НМИЦ профилактической медицины в Петроверигско...   none         102   \n",
       "1  Стомед (100MED) в Люберцах – многопрофильный м...   2003         131   \n",
       "\n",
       "                                          specialist  \\\n",
       "0  {'Сакович Елена Иваровна': {'rating': '5.0', '...   \n",
       "1  {'Вертлина Ирина Леонидовна': {'rating': '5.0'...   \n",
       "\n",
       "                                          full_price  \\\n",
       "0  {'Водительская медкомиссия': 'от 800', 'МРТ го...   \n",
       "1  {'Флюорография': '1 200', 'Колоноскопия кишечн...   \n",
       "\n",
       "                                        clinic_table  \\\n",
       "0  {'Головная клиника': 'ФГБУ \"Национальный медиц...   \n",
       "1  {'Головная клиника': 'Стомед, сеть медицинских...   \n",
       "\n",
       "                                         clinic_page  \n",
       "0  https://napopravku.ru/moskva/clinics/nmits-pro...  \n",
       "1  https://napopravku.ru/moskva/clinics/stomed-10...  \n",
       "\n",
       "[2 rows x 33 columns]"
      ]
     },
     "execution_count": 3,
     "metadata": {},
     "output_type": "execute_result"
    }
   ],
   "source": [
    "work.head(2)"
   ]
  },
  {
   "cell_type": "code",
   "execution_count": 4,
   "metadata": {},
   "outputs": [
    {
     "data": {
      "text/plain": [
       "№                     int64\n",
       "Unnamed: 1          float64\n",
       "clinic               object\n",
       "verified              int64\n",
       "address              object\n",
       "region               object\n",
       "city                 object\n",
       "address_clear        object\n",
       "type_street          object\n",
       "street               object\n",
       "house                object\n",
       "building             object\n",
       "house_part           object\n",
       "address_add          object\n",
       "metro_station        object\n",
       "phone                object\n",
       "work_hours           object\n",
       "clinic_type          object\n",
       "age_profile          object\n",
       "clinic_tags          object\n",
       "rating               object\n",
       "review_number        object\n",
       "scores_dict          object\n",
       "main_clinic          object\n",
       "main_clinic_page     object\n",
       "advantages           object\n",
       "description          object\n",
       "year_f               object\n",
       "doc_numbers           int64\n",
       "specialist           object\n",
       "full_price           object\n",
       "clinic_table         object\n",
       "clinic_page          object\n",
       "dtype: object"
      ]
     },
     "execution_count": 4,
     "metadata": {},
     "output_type": "execute_result"
    }
   ],
   "source": [
    "work.dtypes"
   ]
  },
  {
   "cell_type": "code",
   "execution_count": null,
   "metadata": {},
   "outputs": [],
   "source": [
    "street_types_list = [\n",
    "    'улица ', 'ул. ', 'ул ',\n",
    "    'проспект' , 'пр-т ', 'пр-кт ',\n",
    "    'шоссе ', 'ш. ',\n",
    "    'бульвар ', 'б-р ', 'бульв. ',\n",
    "    'переулок ', 'пер. ', 'пер ',\n",
    "    'проезд ', 'пр-д ',\n",
    "    'тупик ', 'туп. ', 'туп '\n",
    "]"
   ]
  },
  {
   "cell_type": "code",
   "execution_count": null,
   "metadata": {},
   "outputs": [],
   "source": [
    "def find_street_type(text):\n",
    "    \n",
    "    for item in street_types_list:\n",
    "        if item == text[:(len(item))]:\n",
    "            return item"
   ]
  },
  {
   "cell_type": "code",
   "execution_count": null,
   "metadata": {},
   "outputs": [],
   "source": [
    "work['new'] = work['address'].apply(find_street_type)"
   ]
  },
  {
   "cell_type": "code",
   "execution_count": null,
   "metadata": {},
   "outputs": [],
   "source": []
  },
  {
   "cell_type": "code",
   "execution_count": null,
   "metadata": {},
   "outputs": [],
   "source": []
  },
  {
   "cell_type": "code",
   "execution_count": 7,
   "metadata": {},
   "outputs": [],
   "source": [
    "work.street.fillna('none', inplace=True)"
   ]
  },
  {
   "cell_type": "code",
   "execution_count": 8,
   "metadata": {},
   "outputs": [],
   "source": [
    "# функция\n",
    "\n",
    "def move_street_number(text):\n",
    "    temp = text.split(' ')\n",
    "    if [temp[0]] == re.findall('[\\d]+-[а-я]', temp[0]):\n",
    "        return ' '.join(temp[1:]) + ' ' + str(temp[0])\n",
    "    else:\n",
    "        return ' '.join(temp)"
   ]
  },
  {
   "cell_type": "code",
   "execution_count": 9,
   "metadata": {},
   "outputs": [],
   "source": [
    "work['new'] = work['street'].apply(move_street_number)"
   ]
  },
  {
   "cell_type": "code",
   "execution_count": 10,
   "metadata": {},
   "outputs": [
    {
     "data": {
      "text/html": [
       "<div>\n",
       "<style scoped>\n",
       "    .dataframe tbody tr th:only-of-type {\n",
       "        vertical-align: middle;\n",
       "    }\n",
       "\n",
       "    .dataframe tbody tr th {\n",
       "        vertical-align: top;\n",
       "    }\n",
       "\n",
       "    .dataframe thead th {\n",
       "        text-align: right;\n",
       "    }\n",
       "</style>\n",
       "<table border=\"1\" class=\"dataframe\">\n",
       "  <thead>\n",
       "    <tr style=\"text-align: right;\">\n",
       "      <th></th>\n",
       "      <th>№</th>\n",
       "      <th>Unnamed: 1</th>\n",
       "      <th>clinic</th>\n",
       "      <th>verified</th>\n",
       "      <th>address</th>\n",
       "      <th>region</th>\n",
       "      <th>city</th>\n",
       "      <th>address_clear</th>\n",
       "      <th>type_street</th>\n",
       "      <th>street</th>\n",
       "      <th>...</th>\n",
       "      <th>main_clinic_page</th>\n",
       "      <th>advantages</th>\n",
       "      <th>description</th>\n",
       "      <th>year_f</th>\n",
       "      <th>doc_numbers</th>\n",
       "      <th>specialist</th>\n",
       "      <th>full_price</th>\n",
       "      <th>clinic_table</th>\n",
       "      <th>clinic_page</th>\n",
       "      <th>new</th>\n",
       "    </tr>\n",
       "  </thead>\n",
       "  <tbody>\n",
       "    <tr>\n",
       "      <th>0</th>\n",
       "      <td>1</td>\n",
       "      <td>NaN</td>\n",
       "      <td>НМИЦ терапии и профилактической медицины в Пет...</td>\n",
       "      <td>1</td>\n",
       "      <td>г Москва, пер Петроверигский, д 10 стр 3</td>\n",
       "      <td>NaN</td>\n",
       "      <td>Москва</td>\n",
       "      <td>Петроверигский, д. 10, , стр. 3$</td>\n",
       "      <td>переулок</td>\n",
       "      <td>Петроверигский</td>\n",
       "      <td>...</td>\n",
       "      <td>https://napopravku.ru/moskva/clinics/fgbu-nats...</td>\n",
       "      <td>['Более 100 врачей', 'Средний рейтинг врачей 4...</td>\n",
       "      <td>НМИЦ профилактической медицины в Петроверигско...</td>\n",
       "      <td>none</td>\n",
       "      <td>102</td>\n",
       "      <td>{'Сакович Елена Иваровна': {'rating': '5.0', '...</td>\n",
       "      <td>{'Водительская медкомиссия': 'от 800', 'МРТ го...</td>\n",
       "      <td>{'Головная клиника': 'ФГБУ \"Национальный медиц...</td>\n",
       "      <td>https://napopravku.ru/moskva/clinics/nmits-pro...</td>\n",
       "      <td>Петроверигский</td>\n",
       "    </tr>\n",
       "  </tbody>\n",
       "</table>\n",
       "<p>1 rows × 34 columns</p>\n",
       "</div>"
      ],
      "text/plain": [
       "   №  Unnamed: 1                                             clinic  verified  \\\n",
       "0  1         NaN  НМИЦ терапии и профилактической медицины в Пет...         1   \n",
       "\n",
       "                                    address region    city  \\\n",
       "0  г Москва, пер Петроверигский, д 10 стр 3    NaN  Москва   \n",
       "\n",
       "                      address_clear type_street          street  ...  \\\n",
       "0  Петроверигский, д. 10, , стр. 3$    переулок  Петроверигский  ...   \n",
       "\n",
       "                                    main_clinic_page  \\\n",
       "0  https://napopravku.ru/moskva/clinics/fgbu-nats...   \n",
       "\n",
       "                                          advantages  \\\n",
       "0  ['Более 100 врачей', 'Средний рейтинг врачей 4...   \n",
       "\n",
       "                                         description year_f doc_numbers  \\\n",
       "0  НМИЦ профилактической медицины в Петроверигско...   none         102   \n",
       "\n",
       "                                          specialist  \\\n",
       "0  {'Сакович Елена Иваровна': {'rating': '5.0', '...   \n",
       "\n",
       "                                          full_price  \\\n",
       "0  {'Водительская медкомиссия': 'от 800', 'МРТ го...   \n",
       "\n",
       "                                        clinic_table  \\\n",
       "0  {'Головная клиника': 'ФГБУ \"Национальный медиц...   \n",
       "\n",
       "                                         clinic_page             new  \n",
       "0  https://napopravku.ru/moskva/clinics/nmits-pro...  Петроверигский  \n",
       "\n",
       "[1 rows x 34 columns]"
      ]
     },
     "execution_count": 10,
     "metadata": {},
     "output_type": "execute_result"
    }
   ],
   "source": [
    "work.head(1)"
   ]
  },
  {
   "cell_type": "code",
   "execution_count": 11,
   "metadata": {},
   "outputs": [],
   "source": [
    "work.to_excel('C:/00_Data/Стоматологии/Москва/temp.xlsx')"
   ]
  },
  {
   "cell_type": "code",
   "execution_count": null,
   "metadata": {},
   "outputs": [],
   "source": []
  },
  {
   "cell_type": "code",
   "execution_count": null,
   "metadata": {},
   "outputs": [],
   "source": [
    "# загружаю датасет\n",
    "\n",
    "work = pd.read_excel('C:/Data/Красная Горка/test.xlsx', sheet_name='work')"
   ]
  },
  {
   "cell_type": "code",
   "execution_count": null,
   "metadata": {},
   "outputs": [],
   "source": [
    "# смотрю данные\n",
    "\n",
    "work.sample(3)"
   ]
  },
  {
   "cell_type": "code",
   "execution_count": null,
   "metadata": {},
   "outputs": [],
   "source": [
    "work.dtypes"
   ]
  },
  {
   "cell_type": "code",
   "execution_count": null,
   "metadata": {},
   "outputs": [],
   "source": [
    "# меняю ё на е\n",
    "\n",
    "work.new_text = work.new_text.str.replace('ё', 'е')"
   ]
  },
  {
   "cell_type": "code",
   "execution_count": null,
   "metadata": {},
   "outputs": [],
   "source": [
    "# убираю переводы строки\n",
    "\n",
    "work.new_text = work.new_text.str.replace('\\n', ' ')"
   ]
  },
  {
   "cell_type": "code",
   "execution_count": null,
   "metadata": {},
   "outputs": [],
   "source": [
    "# удаляю знаки все препинания\n",
    "work.new_text = work.new_text.str.replace(r'[^\\w\\s]+', ' ')"
   ]
  },
  {
   "cell_type": "code",
   "execution_count": null,
   "metadata": {},
   "outputs": [],
   "source": [
    "# убираю цифры\n",
    "\n",
    "#work.new_text = work.new_text.str.replace(r'[0-9]+', ' ')"
   ]
  },
  {
   "cell_type": "code",
   "execution_count": null,
   "metadata": {},
   "outputs": [],
   "source": [
    "# убираю двойные пробелы\n",
    "\n",
    "work.new_text = work.new_text.str.replace('  ', ' ')"
   ]
  },
  {
   "cell_type": "code",
   "execution_count": null,
   "metadata": {},
   "outputs": [],
   "source": [
    "# перевожу в нижний регистр\n",
    "\n",
    "work.new_text = work.new_text.str.lower()"
   ]
  },
  {
   "cell_type": "code",
   "execution_count": null,
   "metadata": {},
   "outputs": [],
   "source": [
    "work.sample(2)"
   ]
  },
  {
   "cell_type": "code",
   "execution_count": null,
   "metadata": {},
   "outputs": [],
   "source": [
    "# сортирую слова по алфавиту\n",
    "\n",
    "work['new_text'] = work['new_text'].apply(lambda x: ' '.join(sorted(x.split(' '))))"
   ]
  },
  {
   "cell_type": "code",
   "execution_count": null,
   "metadata": {},
   "outputs": [],
   "source": [
    "work.head(10)"
   ]
  },
  {
   "cell_type": "code",
   "execution_count": null,
   "metadata": {},
   "outputs": [],
   "source": []
  },
  {
   "cell_type": "code",
   "execution_count": null,
   "metadata": {},
   "outputs": [],
   "source": [
    "need_text = str(work.new_text)"
   ]
  },
  {
   "cell_type": "code",
   "execution_count": null,
   "metadata": {},
   "outputs": [],
   "source": []
  },
  {
   "cell_type": "code",
   "execution_count": null,
   "metadata": {},
   "outputs": [],
   "source": [
    "# !pip uninstall spacy\n",
    "# !pip install -U spacy\n",
    "# !python -m spacy download ru_core_news_sm\n",
    "\n",
    "import spacy ## общий пакет, где лежит весь функционал\n",
    "import ru_core_news_sm ## натренированные модели на русском\n",
    "import string ## здесь возомьм пунктуацию\n",
    "import nltk # удобный пакет для всякой работы с текстом"
   ]
  },
  {
   "cell_type": "code",
   "execution_count": null,
   "metadata": {},
   "outputs": [],
   "source": [
    "nlp = ru_core_news_sm.load() ## умная \"обертка\" для каждого текста\n",
    "doc = nlp(need_text)\n",
    "doc"
   ]
  },
  {
   "cell_type": "code",
   "execution_count": null,
   "metadata": {},
   "outputs": [],
   "source": [
    "tokenized1 = [token for token in doc] # первый способ"
   ]
  },
  {
   "cell_type": "code",
   "execution_count": null,
   "metadata": {},
   "outputs": [],
   "source": [
    "tokenized2 = text.split(' ') # второй способ"
   ]
  },
  {
   "cell_type": "code",
   "execution_count": null,
   "metadata": {},
   "outputs": [],
   "source": [
    "from spacy.lang.ru.stop_words import STOP_WORDS # стоп слова\n",
    "\n",
    "\n",
    "[token for token in doc if token not in STOP_WORDS]"
   ]
  },
  {
   "cell_type": "code",
   "execution_count": null,
   "metadata": {},
   "outputs": [],
   "source": [
    "#\" \".join(stemmer.stem(token) for token in tokens)\n",
    "lemmatizer = nltk.stem.WordNetLemmatizer()\n",
    "#\" \".join(lemmatizer.lemmatize(token) for token in tokens)"
   ]
  },
  {
   "cell_type": "code",
   "execution_count": null,
   "metadata": {},
   "outputs": [],
   "source": [
    "punctuations = string.punctuation\n",
    "stopwords = STOP_WORDS\n",
    "\n",
    "def spacy_processor(sentence):\n",
    "    mytokens = nlp(sentence)\n",
    "    mytokens = [ word.lemma_.lower().strip() for word in mytokens ]\n",
    "    mytokens = [ word for word in mytokens if word not in stopwords and word not in punctuations ]\n",
    "    mytokens = \" \".join([i for i in mytokens])\n",
    "    return mytokens\n",
    "spacy_processor(need_text)"
   ]
  },
  {
   "cell_type": "code",
   "execution_count": null,
   "metadata": {},
   "outputs": [],
   "source": [
    "work['new_text'] = work['new_text'].apply(spacy_processor)"
   ]
  },
  {
   "cell_type": "code",
   "execution_count": null,
   "metadata": {},
   "outputs": [],
   "source": [
    "work"
   ]
  },
  {
   "cell_type": "code",
   "execution_count": null,
   "metadata": {},
   "outputs": [],
   "source": []
  },
  {
   "cell_type": "code",
   "execution_count": null,
   "metadata": {},
   "outputs": [],
   "source": [
    "work.to_excel('C:/Data/Красная Горка/temp.xlsx')"
   ]
  },
  {
   "cell_type": "code",
   "execution_count": null,
   "metadata": {},
   "outputs": [],
   "source": []
  },
  {
   "cell_type": "code",
   "execution_count": null,
   "metadata": {},
   "outputs": [],
   "source": []
  },
  {
   "cell_type": "code",
   "execution_count": null,
   "metadata": {},
   "outputs": [],
   "source": []
  }
 ],
 "metadata": {
  "kernelspec": {
   "display_name": "Python 3",
   "language": "python",
   "name": "python3"
  },
  "language_info": {
   "codemirror_mode": {
    "name": "ipython",
    "version": 3
   },
   "file_extension": ".py",
   "mimetype": "text/x-python",
   "name": "python",
   "nbconvert_exporter": "python",
   "pygments_lexer": "ipython3",
   "version": "3.8.8"
  }
 },
 "nbformat": 4,
 "nbformat_minor": 2
}
