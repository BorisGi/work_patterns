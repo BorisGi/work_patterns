{
 "cells": [
  {
   "cell_type": "code",
   "execution_count": 1,
   "metadata": {},
   "outputs": [],
   "source": [
    "# загружаю библиотеки\n",
    "\n",
    "import pandas as pd"
   ]
  },
  {
   "cell_type": "code",
   "execution_count": null,
   "metadata": {},
   "outputs": [],
   "source": []
  },
  {
   "cell_type": "code",
   "execution_count": 2,
   "metadata": {},
   "outputs": [],
   "source": [
    "# загружаю датасет\n",
    "\n",
    "work = pd.read_excel('C:/Users/Boris/Downloads/Красная горка/prices_new.xlsx', sheet_name='work')"
   ]
  },
  {
   "cell_type": "code",
   "execution_count": 4,
   "metadata": {},
   "outputs": [
    {
     "data": {
      "text/html": [
       "<div>\n",
       "<style scoped>\n",
       "    .dataframe tbody tr th:only-of-type {\n",
       "        vertical-align: middle;\n",
       "    }\n",
       "\n",
       "    .dataframe tbody tr th {\n",
       "        vertical-align: top;\n",
       "    }\n",
       "\n",
       "    .dataframe thead th {\n",
       "        text-align: right;\n",
       "    }\n",
       "</style>\n",
       "<table border=\"1\" class=\"dataframe\">\n",
       "  <thead>\n",
       "    <tr style=\"text-align: right;\">\n",
       "      <th></th>\n",
       "      <th>№№</th>\n",
       "      <th>clinic</th>\n",
       "      <th>species</th>\n",
       "      <th>type</th>\n",
       "      <th>type_2</th>\n",
       "      <th>product</th>\n",
       "      <th>addition</th>\n",
       "      <th>unit</th>\n",
       "      <th>price_limit</th>\n",
       "      <th>action</th>\n",
       "      <th>product_original</th>\n",
       "      <th>price</th>\n",
       "    </tr>\n",
       "  </thead>\n",
       "  <tbody>\n",
       "    <tr>\n",
       "      <th>469</th>\n",
       "      <td>470</td>\n",
       "      <td>Дентанис</td>\n",
       "      <td>взрослые</td>\n",
       "      <td>6. Имплантология</td>\n",
       "      <td>съемное протезирование</td>\n",
       "      <td>Полный съемный протез</td>\n",
       "      <td>NaN</td>\n",
       "      <td>NaN</td>\n",
       "      <td>NaN</td>\n",
       "      <td>NaN</td>\n",
       "      <td>Полный съемный протез</td>\n",
       "      <td>21000.0</td>\n",
       "    </tr>\n",
       "    <tr>\n",
       "      <th>6213</th>\n",
       "      <td>6214</td>\n",
       "      <td>Персона</td>\n",
       "      <td>взрослые</td>\n",
       "      <td>NaN</td>\n",
       "      <td>съемные протезы</td>\n",
       "      <td>Протезирование съемными бюгельными протезами (...</td>\n",
       "      <td>NaN</td>\n",
       "      <td>NaN</td>\n",
       "      <td>NaN</td>\n",
       "      <td>NaN</td>\n",
       "      <td>Протезирование съемными бюгельными протезами (...</td>\n",
       "      <td>53500.0</td>\n",
       "    </tr>\n",
       "    <tr>\n",
       "      <th>2902</th>\n",
       "      <td>2903</td>\n",
       "      <td>Павленко</td>\n",
       "      <td>взрослые</td>\n",
       "      <td>5. Ортопедия</td>\n",
       "      <td>прочие работы</td>\n",
       "      <td>Замена матрицы</td>\n",
       "      <td>NaN</td>\n",
       "      <td>1</td>\n",
       "      <td>NaN</td>\n",
       "      <td>NaN</td>\n",
       "      <td>Замена матрицы</td>\n",
       "      <td>1800.0</td>\n",
       "    </tr>\n",
       "  </tbody>\n",
       "</table>\n",
       "</div>"
      ],
      "text/plain": [
       "        №№    clinic   species              type                  type_2  \\\n",
       "469    470  Дентанис  взрослые  6. Имплантология  съемное протезирование   \n",
       "6213  6214   Персона  взрослые               NaN         съемные протезы   \n",
       "2902  2903  Павленко  взрослые      5. Ортопедия           прочие работы   \n",
       "\n",
       "                                                product addition unit  \\\n",
       "469                               Полный съемный протез      NaN  NaN   \n",
       "6213  Протезирование съемными бюгельными протезами (...      NaN  NaN   \n",
       "2902                                     Замена матрицы      NaN    1   \n",
       "\n",
       "     price_limit action                                   product_original  \\\n",
       "469          NaN    NaN                              Полный съемный протез   \n",
       "6213         NaN    NaN  Протезирование съемными бюгельными протезами (...   \n",
       "2902         NaN    NaN                                     Замена матрицы   \n",
       "\n",
       "        price  \n",
       "469   21000.0  \n",
       "6213  53500.0  \n",
       "2902   1800.0  "
      ]
     },
     "execution_count": 4,
     "metadata": {},
     "output_type": "execute_result"
    }
   ],
   "source": [
    "# смотрю данные\n",
    "\n",
    "work.sample(3)"
   ]
  },
  {
   "cell_type": "code",
   "execution_count": 9,
   "metadata": {},
   "outputs": [
    {
     "data": {
      "text/plain": [
       "№№                    int64\n",
       "clinic               object\n",
       "species              object\n",
       "type                 object\n",
       "type_2               object\n",
       "product              object\n",
       "addition             object\n",
       "unit                 object\n",
       "price_limit          object\n",
       "action               object\n",
       "product_original     object\n",
       "price               float64\n",
       "dtype: object"
      ]
     },
     "execution_count": 9,
     "metadata": {},
     "output_type": "execute_result"
    }
   ],
   "source": [
    "work.dtypes"
   ]
  },
  {
   "cell_type": "code",
   "execution_count": 12,
   "metadata": {},
   "outputs": [
    {
     "ename": "AttributeError",
     "evalue": "'function' object has no attribute 'replace'",
     "output_type": "error",
     "traceback": [
      "\u001b[1;31m---------------------------------------------------------------------------\u001b[0m",
      "\u001b[1;31mAttributeError\u001b[0m                            Traceback (most recent call last)",
      "\u001b[1;32m<ipython-input-12-479a42238094>\u001b[0m in \u001b[0;36m<module>\u001b[1;34m\u001b[0m\n\u001b[0;32m      1\u001b[0m \u001b[1;31m# меняю ё на е\u001b[0m\u001b[1;33m\u001b[0m\u001b[1;33m\u001b[0m\u001b[1;33m\u001b[0m\u001b[0m\n\u001b[0;32m      2\u001b[0m \u001b[1;33m\u001b[0m\u001b[0m\n\u001b[1;32m----> 3\u001b[1;33m \u001b[0mwork\u001b[0m\u001b[1;33m.\u001b[0m\u001b[0mproduct\u001b[0m \u001b[1;33m=\u001b[0m \u001b[0mwork\u001b[0m\u001b[1;33m.\u001b[0m\u001b[0mproduct\u001b[0m\u001b[1;33m.\u001b[0m\u001b[0mreplace\u001b[0m\u001b[1;33m(\u001b[0m\u001b[1;34m'ё'\u001b[0m\u001b[1;33m,\u001b[0m \u001b[1;34m'е'\u001b[0m\u001b[1;33m)\u001b[0m\u001b[1;33m\u001b[0m\u001b[1;33m\u001b[0m\u001b[0m\n\u001b[0m",
      "\u001b[1;31mAttributeError\u001b[0m: 'function' object has no attribute 'replace'"
     ]
    }
   ],
   "source": [
    "# меняю ё на е\n",
    "\n",
    "work.product = work.product.str.replace('ё', 'е')"
   ]
  },
  {
   "cell_type": "code",
   "execution_count": 11,
   "metadata": {},
   "outputs": [
    {
     "ename": "AttributeError",
     "evalue": "'function' object has no attribute 'str'",
     "output_type": "error",
     "traceback": [
      "\u001b[1;31m---------------------------------------------------------------------------\u001b[0m",
      "\u001b[1;31mAttributeError\u001b[0m                            Traceback (most recent call last)",
      "\u001b[1;32m<ipython-input-11-e33b6d0e059e>\u001b[0m in \u001b[0;36m<module>\u001b[1;34m\u001b[0m\n\u001b[0;32m      1\u001b[0m \u001b[1;31m# убираю переводы строки\u001b[0m\u001b[1;33m\u001b[0m\u001b[1;33m\u001b[0m\u001b[1;33m\u001b[0m\u001b[0m\n\u001b[0;32m      2\u001b[0m \u001b[1;33m\u001b[0m\u001b[0m\n\u001b[1;32m----> 3\u001b[1;33m \u001b[0mwork\u001b[0m\u001b[1;33m.\u001b[0m\u001b[0mproduct\u001b[0m \u001b[1;33m=\u001b[0m \u001b[0mwork\u001b[0m\u001b[1;33m.\u001b[0m\u001b[0mproduct\u001b[0m\u001b[1;33m.\u001b[0m\u001b[0mstr\u001b[0m\u001b[1;33m.\u001b[0m\u001b[0mreplace\u001b[0m\u001b[1;33m(\u001b[0m\u001b[1;34m'\\n'\u001b[0m\u001b[1;33m,\u001b[0m \u001b[1;34m' '\u001b[0m\u001b[1;33m)\u001b[0m\u001b[1;33m\u001b[0m\u001b[1;33m\u001b[0m\u001b[0m\n\u001b[0m",
      "\u001b[1;31mAttributeError\u001b[0m: 'function' object has no attribute 'str'"
     ]
    }
   ],
   "source": [
    "# убираю переводы строки\n",
    "\n",
    "work.product = work.product.str.replace('\\n', ' ')"
   ]
  },
  {
   "cell_type": "code",
   "execution_count": null,
   "metadata": {},
   "outputs": [],
   "source": []
  },
  {
   "cell_type": "code",
   "execution_count": null,
   "metadata": {},
   "outputs": [],
   "source": []
  },
  {
   "cell_type": "code",
   "execution_count": null,
   "metadata": {},
   "outputs": [],
   "source": []
  }
 ],
 "metadata": {
  "kernelspec": {
   "display_name": "Python 3",
   "language": "python",
   "name": "python3"
  },
  "language_info": {
   "codemirror_mode": {
    "name": "ipython",
    "version": 3
   },
   "file_extension": ".py",
   "mimetype": "text/x-python",
   "name": "python",
   "nbconvert_exporter": "python",
   "pygments_lexer": "ipython3",
   "version": "3.7.4"
  }
 },
 "nbformat": 4,
 "nbformat_minor": 2
}
